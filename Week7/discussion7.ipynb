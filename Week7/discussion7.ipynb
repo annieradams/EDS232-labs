{
 "cells": [
  {
   "cell_type": "code",
   "execution_count": 11,
   "id": "a9ee4c76-36bb-4a51-a217-5bce9425a022",
   "metadata": {
    "tags": []
   },
   "outputs": [],
   "source": [
    "import pandas as pd\n",
    "import numpy as np\n",
    "from sklearn.model_selection import train_test_split\n",
    "from sklearn.feature_extraction.text import TfidfVectorizer, CountVectorizer\n",
    "from sklearn.linear_model import LogisticRegression\n",
    "from sklearn.metrics import classification_report, f1_score, accuracy_score, confusion_matrix\n",
    "from sklearn.metrics import roc_curve, auc, roc_auc_score\n",
    "import re\n",
    "import string\n",
    "import matplotlib.pyplot as plt\n",
    "import seaborn as sns"
   ]
  },
  {
   "cell_type": "code",
   "execution_count": 39,
   "id": "5cab958c-c338-41a0-a76b-a265b5a68831",
   "metadata": {
    "tags": []
   },
   "outputs": [],
   "source": [
    "# Read in the data\n",
    "disaster = pd.read_csv('data/disaster.csv')"
   ]
  },
  {
   "cell_type": "code",
   "execution_count": 47,
   "id": "32cdee56-c0a1-423d-b79a-b304b3af09b8",
   "metadata": {
    "tags": []
   },
   "outputs": [],
   "source": [
    "# Cleaning text data\n",
    "def preprocess(text):\n",
    "    text = text.lower() # make text lowercase\n",
    "    text=  text.strip()  # takes away leading and training spaces\n",
    "    text=  re.sub(r'<.*?>','', text) # removes html syntax\n",
    "    text = re.sub(r'[^\\w\\s]','',text) # removes special punctuation characters\n",
    "    text = re.sub(r'\\[[0-9]*\\]',' ',text) # removes references\n",
    "    text = re.sub(r'\\d',' ',text)  # removes numbers (digits)\n",
    "    text = re.sub(r'\\s+', ' ', text) # collapse multiple spaces into a single space\n",
    "    return text"
   ]
  },
  {
   "cell_type": "code",
   "execution_count": 48,
   "id": "9f67a64b-a254-4acb-8984-eb4737a804dd",
   "metadata": {
    "tags": []
   },
   "outputs": [],
   "source": [
    "# Apply string cleaning to text variable\n",
    "disaster['clean_text'] = disaster['text'].apply(preprocess)"
   ]
  },
  {
   "cell_type": "code",
   "execution_count": 49,
   "id": "31b16c85-ffb6-4a9d-9acd-ab05d67337bb",
   "metadata": {
    "tags": []
   },
   "outputs": [
    {
     "data": {
      "text/html": [
       "<div>\n",
       "<style scoped>\n",
       "    .dataframe tbody tr th:only-of-type {\n",
       "        vertical-align: middle;\n",
       "    }\n",
       "\n",
       "    .dataframe tbody tr th {\n",
       "        vertical-align: top;\n",
       "    }\n",
       "\n",
       "    .dataframe thead th {\n",
       "        text-align: right;\n",
       "    }\n",
       "</style>\n",
       "<table border=\"1\" class=\"dataframe\">\n",
       "  <thead>\n",
       "    <tr style=\"text-align: right;\">\n",
       "      <th></th>\n",
       "      <th>id</th>\n",
       "      <th>keyword</th>\n",
       "      <th>location</th>\n",
       "      <th>text</th>\n",
       "      <th>target</th>\n",
       "      <th>clean_text</th>\n",
       "    </tr>\n",
       "  </thead>\n",
       "  <tbody>\n",
       "    <tr>\n",
       "      <th>0</th>\n",
       "      <td>1</td>\n",
       "      <td>NaN</td>\n",
       "      <td>NaN</td>\n",
       "      <td>Our Deeds are the Reason of this #earthquake M...</td>\n",
       "      <td>1</td>\n",
       "      <td>our deeds are the reason of this earthquake ma...</td>\n",
       "    </tr>\n",
       "    <tr>\n",
       "      <th>1</th>\n",
       "      <td>4</td>\n",
       "      <td>NaN</td>\n",
       "      <td>NaN</td>\n",
       "      <td>Forest fire near La Ronge Sask. Canada</td>\n",
       "      <td>1</td>\n",
       "      <td>forest fire near la ronge sask canada</td>\n",
       "    </tr>\n",
       "    <tr>\n",
       "      <th>2</th>\n",
       "      <td>5</td>\n",
       "      <td>NaN</td>\n",
       "      <td>NaN</td>\n",
       "      <td>All residents asked to 'shelter in place' are ...</td>\n",
       "      <td>1</td>\n",
       "      <td>all residents asked to shelter in place are be...</td>\n",
       "    </tr>\n",
       "    <tr>\n",
       "      <th>3</th>\n",
       "      <td>6</td>\n",
       "      <td>NaN</td>\n",
       "      <td>NaN</td>\n",
       "      <td>13,000 people receive #wildfires evacuation or...</td>\n",
       "      <td>1</td>\n",
       "      <td>people receive wildfires evacuation orders in...</td>\n",
       "    </tr>\n",
       "    <tr>\n",
       "      <th>4</th>\n",
       "      <td>7</td>\n",
       "      <td>NaN</td>\n",
       "      <td>NaN</td>\n",
       "      <td>Just got sent this photo from Ruby #Alaska as ...</td>\n",
       "      <td>1</td>\n",
       "      <td>just got sent this photo from ruby alaska as s...</td>\n",
       "    </tr>\n",
       "    <tr>\n",
       "      <th>5</th>\n",
       "      <td>8</td>\n",
       "      <td>NaN</td>\n",
       "      <td>NaN</td>\n",
       "      <td>#RockyFire Update =&gt; California Hwy. 20 closed...</td>\n",
       "      <td>1</td>\n",
       "      <td>rockyfire update california hwy closed in both...</td>\n",
       "    </tr>\n",
       "    <tr>\n",
       "      <th>6</th>\n",
       "      <td>10</td>\n",
       "      <td>NaN</td>\n",
       "      <td>NaN</td>\n",
       "      <td>#flood #disaster Heavy rain causes flash flood...</td>\n",
       "      <td>1</td>\n",
       "      <td>flood disaster heavy rain causes flash floodin...</td>\n",
       "    </tr>\n",
       "    <tr>\n",
       "      <th>7</th>\n",
       "      <td>13</td>\n",
       "      <td>NaN</td>\n",
       "      <td>NaN</td>\n",
       "      <td>I'm on top of the hill and I can see a fire in...</td>\n",
       "      <td>1</td>\n",
       "      <td>im on top of the hill and i can see a fire in ...</td>\n",
       "    </tr>\n",
       "    <tr>\n",
       "      <th>8</th>\n",
       "      <td>14</td>\n",
       "      <td>NaN</td>\n",
       "      <td>NaN</td>\n",
       "      <td>There's an emergency evacuation happening now ...</td>\n",
       "      <td>1</td>\n",
       "      <td>theres an emergency evacuation happening now i...</td>\n",
       "    </tr>\n",
       "    <tr>\n",
       "      <th>9</th>\n",
       "      <td>15</td>\n",
       "      <td>NaN</td>\n",
       "      <td>NaN</td>\n",
       "      <td>I'm afraid that the tornado is coming to our a...</td>\n",
       "      <td>1</td>\n",
       "      <td>im afraid that the tornado is coming to our area</td>\n",
       "    </tr>\n",
       "  </tbody>\n",
       "</table>\n",
       "</div>"
      ],
      "text/plain": [
       "   id keyword location                                               text  \\\n",
       "0   1     NaN      NaN  Our Deeds are the Reason of this #earthquake M...   \n",
       "1   4     NaN      NaN             Forest fire near La Ronge Sask. Canada   \n",
       "2   5     NaN      NaN  All residents asked to 'shelter in place' are ...   \n",
       "3   6     NaN      NaN  13,000 people receive #wildfires evacuation or...   \n",
       "4   7     NaN      NaN  Just got sent this photo from Ruby #Alaska as ...   \n",
       "5   8     NaN      NaN  #RockyFire Update => California Hwy. 20 closed...   \n",
       "6  10     NaN      NaN  #flood #disaster Heavy rain causes flash flood...   \n",
       "7  13     NaN      NaN  I'm on top of the hill and I can see a fire in...   \n",
       "8  14     NaN      NaN  There's an emergency evacuation happening now ...   \n",
       "9  15     NaN      NaN  I'm afraid that the tornado is coming to our a...   \n",
       "\n",
       "   target                                         clean_text  \n",
       "0       1  our deeds are the reason of this earthquake ma...  \n",
       "1       1              forest fire near la ronge sask canada  \n",
       "2       1  all residents asked to shelter in place are be...  \n",
       "3       1   people receive wildfires evacuation orders in...  \n",
       "4       1  just got sent this photo from ruby alaska as s...  \n",
       "5       1  rockyfire update california hwy closed in both...  \n",
       "6       1  flood disaster heavy rain causes flash floodin...  \n",
       "7       1  im on top of the hill and i can see a fire in ...  \n",
       "8       1  theres an emergency evacuation happening now i...  \n",
       "9       1   im afraid that the tornado is coming to our area  "
      ]
     },
     "execution_count": 49,
     "metadata": {},
     "output_type": "execute_result"
    }
   ],
   "source": [
    "disaster.head(10)"
   ]
  },
  {
   "cell_type": "markdown",
   "id": "056a3b9a-40ef-4d2b-b0a4-9febc7ac17a2",
   "metadata": {},
   "source": [
    "# Remove stop words (example: and, the)\n"
   ]
  },
  {
   "cell_type": "code",
   "execution_count": 55,
   "id": "81c11bff-8a96-40f8-869e-6e2d1e2d1673",
   "metadata": {
    "tags": []
   },
   "outputs": [
    {
     "name": "stdout",
     "output_type": "stream",
     "text": [
      "Remainin words\n",
      "['5th' 'awesome' 'capstone' 'crush' 'march' 'presentation' 'team']\n"
     ]
    }
   ],
   "source": [
    "# Proof that Tfid vectorizer excludes topwords\n",
    "stop_words_ex = [\"On March 5th, I will crush my capstone presentation with my awesome team.\"]\n",
    "\n",
    "vectorizer_english = TfidfVectorizer(stop_words = \"english\")\n",
    "vectorizer_english.fit_transform(stop_words_ex)\n",
    "\n",
    "print(\"Remainin words\")\n",
    "print(vectorizer_english.get_feature_names_out())"
   ]
  },
  {
   "cell_type": "markdown",
   "id": "83dba878-df8e-43b1-bfe9-2e7ab4c85fc4",
   "metadata": {
    "tags": []
   },
   "source": [
    "# Lemmatization\n",
    "This would be the next step but the library conflicts with our environment\n",
    "\n",
    "This is a process that would simplify words to their most basic form\n",
    "\n",
    "ex. greater --> great"
   ]
  },
  {
   "cell_type": "markdown",
   "id": "db0421be-bf05-44eb-a182-1dbb418430ca",
   "metadata": {},
   "source": [
    "# Logistic Regression"
   ]
  },
  {
   "cell_type": "markdown",
   "id": "aa35a97d-ab2c-430b-a8f5-9842355f6296",
   "metadata": {},
   "source": [
    "TFIDG allows us to basically encode (vectorize) the most common words in our data"
   ]
  },
  {
   "cell_type": "code",
   "execution_count": 57,
   "id": "92ec65f7-016d-432b-8b06-6561e8a21492",
   "metadata": {
    "tags": []
   },
   "outputs": [],
   "source": [
    "# Split test and train data\n",
    "X_train, X_test, y_train, y_test = train_test_split(disaster[\"clean_text\"],\n",
    "                                                    disaster['target'],\n",
    "                                                    test_size = 0.3,\n",
    "                                                    random_state = 42)"
   ]
  },
  {
   "cell_type": "code",
   "execution_count": 58,
   "id": "a699ae1c-05f1-4476-b482-8f25b9ba8fb9",
   "metadata": {
    "tags": []
   },
   "outputs": [],
   "source": [
    "# Vectorize words\n",
    "tfidf_vectorizer = TfidfVectorizer(stop_words = \"english\")\n",
    "X_train_tfidf = tfidf_vectorizer.fit_transform(X_train)\n",
    "X_test_tfidf = tfidf_vectorizer.transform(X_test)"
   ]
  },
  {
   "cell_type": "code",
   "execution_count": 61,
   "id": "76b311a3-fc61-40e4-ab34-1eb9343f8be0",
   "metadata": {
    "tags": []
   },
   "outputs": [],
   "source": [
    "# Initialize a logistic regression and fit to vectorized training data\n",
    "lr_model = LogisticRegression(random_state = 42)\n",
    "lr_model.fit(X_train_tfidf, y_train)\n",
    "y_pred = lr_model.predict(X_test_tfidf)"
   ]
  },
  {
   "cell_type": "code",
   "execution_count": 64,
   "id": "8f29a9d7-3c11-4939-8bd8-bd367df6c22a",
   "metadata": {
    "tags": []
   },
   "outputs": [
    {
     "name": "stdout",
     "output_type": "stream",
     "text": [
      "Accuracy 0.803415061295972\n"
     ]
    },
    {
     "data": {
      "image/png": "[encoded data removed]",
      "text/plain": [
       "<Figure size 800x600 with 2 Axes>"
      ]
     },
     "metadata": {},
     "output_type": "display_data"
    }
   ],
   "source": [
    "# Calculate LR accuracy\n",
    "accuracy = accuracy_score(y_test, y_pred)\n",
    "print(\"Accuracy\", accuracy)\n",
    "\n",
    "# Create confusion matrix for correctly/incorrectly predicting outcome variable\n",
    "cm = confusion_matrix(y_test, y_pred)\n",
    "plt.figure(figsize = (8,6))\n",
    "sns.heatmap(cm, annot = True, fmt = 'd', cmap = \"GnBu\",\n",
    "            xticklabels = [\"No disaster\", \"Disaster\"],\n",
    "            yticklabels =  [\"No disaster\", \"Disaster\"])\n",
    "plt.title(\"logistic regression model performance\")\n",
    "plt.ylabel('True Label')\n",
    "plt.xlabel('False Label')\n",
    "plt.show()"
   ]
  },
  {
   "cell_type": "markdown",
   "id": "bae0c93a-a78f-4dc5-81db-51daaf695740",
   "metadata": {},
   "source": [
    "Test model with new data"
   ]
  },
  {
   "cell_type": "code",
   "execution_count": 67,
   "id": "d1153ce5-6104-457e-8d50-c8069640c321",
   "metadata": {
    "tags": []
   },
   "outputs": [
    {
     "name": "stdout",
     "output_type": "stream",
     "text": [
      "Text:  Breaking: massive earthquake hits coast\n",
      "Prediction: Real Disaster\n",
      "\n",
      "Text:  I love watching disaster movies on Netflix\n",
      "Prediction: Not a real disaster\n",
      "\n",
      "Text:  Thousands evacuated as hurricane approaches\n",
      "Prediction: Real Disaster\n",
      "\n",
      "Text:  Theeees is a disssaster\n",
      "Prediction: Not a real disaster\n",
      "\n",
      "Text:  It's Windy\n",
      "Prediction: Not a real disaster\n",
      "\n",
      "Text:  The palisade fire has damaged over 7000 structures\n",
      "Prediction: Not a real disaster\n",
      "\n",
      "Text:  I dropped my pencil and I'm mtoo lazy to pick it up myself\n",
      "Prediction: Not a real disaster\n",
      "\n",
      "Text:  What about the MEG?!?!\n",
      "Prediction: Not a real disaster\n",
      "\n"
     ]
    }
   ],
   "source": [
    "# Preprocess new phrases\n",
    "new_text = [\n",
    "    \"Breaking: massive earthquake hits coast\",\n",
    "    \"I love watching disaster movies on Netflix\",\n",
    "    \"Thousands evacuated as hurricane approaches\",\n",
    "    \"Theeees is a disssaster\",\n",
    "    \"It's Windy\",\n",
    "    \"The palisade fire has damaged over 7000 structures\",\n",
    "    \"I dropped my pencil and I'm mtoo lazy to pick it up myself\",\n",
    "    \"What about the MEG?!?!\"\n",
    "]\n",
    "\n",
    "\n",
    "# Transform and clean\n",
    "cleaned_new_text = [preprocess(text) for text in new_text]\n",
    "\n",
    "# Transform using TF-IDF vectorizer\n",
    "new_features = tfidf_vectorizer.transform(cleaned_new_text)\n",
    "\n",
    "# Predictions\n",
    "predictions = lr_model.predict(new_features)\n",
    "\n",
    "# Check outcomes\n",
    "for text, pred in zip(new_text, predictions):\n",
    "    print(\"Text: \", text)\n",
    "    print(f\"Prediction: {'Real Disaster' if pred == 1 else 'Not a real disaster'}\\n\")"
   ]
  },
  {
   "cell_type": "code",
   "execution_count": null,
   "id": "89b82ce5-9896-4c32-9dd9-0ab14d1202fe",
   "metadata": {},
   "outputs": [],
   "source": []
  }
 ],
 "metadata": {
  "kernelspec": {
   "display_name": "Anaconda 3 (EDS232)",
   "language": "python",
   "name": "ml-env"
  },
  "language_info": {
   "codemirror_mode": {
    "name": "ipython",
    "version": 3
   },
   "file_extension": ".py",
   "mimetype": "text/x-python",
   "name": "python",
   "nbconvert_exporter": "python",
   "pygments_lexer": "ipython3",
   "version": "3.10.16"
  }
 },
 "nbformat": 4,
 "nbformat_minor": 5
}
