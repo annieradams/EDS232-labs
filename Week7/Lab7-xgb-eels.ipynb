{
 "cells": [
  {
   "cell_type": "markdown",
   "id": "b6e8c422-cc19-4d89-8f96-003c36cf7c33",
   "metadata": {},
   "source": [
    "## Lab 7: Eel Distribution Modeling with XGBoost\n",
    "\n",
    "**Reference Paper:** [Elith et al. (2008)](https://ucsb.box.com/s/6k7636wsbogdg3orarxrlowke0ounbic)\n",
    "\n",
    "In this lab, you will model the distribution of the eel species *Anguilla australis* using **boosted classification trees (BCTs)**, a machine learning technique that improves predictive performance by combining multiple decision trees. Elith et al. (2008) offered an early implementation of BRTs in an ecological setting to understand how environmental variables influence eel distribution.\n",
    "\n",
    "You will work with **two datasets**:\n",
    "1. **Training Data** – Used to build and evaluate your XGBoost model.\n",
    "2. **Evaluation Data** – Used to assess model performance on unseen data.\n",
    "\n",
    "To achieve the following objectives:\n",
    "- Train and fine-tune an **XGBoost** model for classification of species presence/absence data.\n",
    "- Compare your model’s performance to the approach used by Elith et al.\n",
    "\n",
    "\n",
    "**Wherever applicable in this lab, use a random state of 808.**"
   ]
  },
  {
   "cell_type": "markdown",
   "id": "ac39e743-8686-4f51-85ee-7c1925002f5f",
   "metadata": {},
   "source": [
    "### Step 0: Load libraries and data\n"
   ]
  },
  {
   "cell_type": "code",
   "execution_count": 1,
   "id": "dd687480-182a-4416-9cdd-10eb33d147d1",
   "metadata": {
    "tags": []
   },
   "outputs": [],
   "source": [
    "import pandas as pd\n",
    "from sklearn.model_selection import train_test_split,RandomizedSearchCV\n",
    "from sklearn.datasets import make_moons\n",
    "from sklearn.preprocessing import LabelEncoder\n",
    "import xgboost as xgb\n",
    "from xgboost import XGBClassifier\n",
    "from sklearn.metrics import roc_auc_score\n",
    "from scipy.stats import uniform, randint\n",
    "\n",
    "from sklearn.metrics import log_loss\n",
    "from sklearn.metrics import mean_squared_error, accuracy_score\n",
    "from sklearn.metrics import accuracy_score, roc_curve, auc\n",
    "import matplotlib.pyplot as plt\n",
    "import seaborn as sns\n",
    "\n",
    "\n",
    "# Download the datasets\n",
    "model_data = pd.read_csv(\"/courses/EDS232/Data/model.data.csv\").drop(columns=['Site'])\n",
    "eval_data = pd.read_csv(\"/courses/EDS232/Data/eval.data.csv\")"
   ]
  },
  {
   "cell_type": "markdown",
   "id": "21e16c25",
   "metadata": {},
   "source": [
    "### Step 1:Initial Data Preprocessing\n",
    "Let's get started by preparing our data. `Angaus` will be our target variable(`y`), and all other variables will be our features (`X`). Then encode the categorical feature using `LabelEncoder()`. The final step will be a bit different this time.  We don't need to split off testing data for the final model evaluation; a separate set (`eval_data`) will be used as in Elith et al.  We do, however, need to split our data in order to do the early stopping process. When splitting your data into training and validation, use a test size of 0.2 and a random state of 808. "
   ]
  },
  {
   "cell_type": "markdown",
   "id": "1a5e6794-7297-4261-8cb1-c9ff8f0db964",
   "metadata": {},
   "source": [
    "Notes:\n",
    "\n",
    "Learning rate is: # how much are we going to change the parameter value. at a given step along optimization, we use gradient that gives biggest decrease in loss function (thing we are trying to minimize)\n",
    "\n",
    "Uniform is a square distribution, it is saying start at the first, the second value is the length of the range. Values from 0.01 - 0.3. (0.3 is the length of the range) "
   ]
  },
  {
   "cell_type": "code",
   "execution_count": 2,
   "id": "92f8a3c0",
   "metadata": {
    "tags": []
   },
   "outputs": [],
   "source": [
    "# ---- Define X & y variables ----\n",
    "\n",
    "y = model_data['Angaus']\n",
    "X = model_data.drop('Angaus', axis = 1)"
   ]
  },
  {
   "cell_type": "code",
   "execution_count": 3,
   "id": "38274ec0-c34a-4fa6-8766-52800485daf1",
   "metadata": {},
   "outputs": [],
   "source": [
    "# ---- Encode X data ----\n",
    "\n",
    "# Initialize the encoder\n",
    "le = LabelEncoder()\n",
    "\n",
    "# Encode the \"Method\" column\n",
    "X[\"Method\"] = le.fit_transform(X[\"Method\"])\n",
    "\n",
    "# ---- Split X into test and train for early stopping ----\n",
    "\n",
    "X_train, X_test, y_train, y_test = train_test_split(X, y, test_size = 0.2, random_state = 808)"
   ]
  },
  {
   "cell_type": "markdown",
   "id": "e025a34e",
   "metadata": {},
   "source": [
    "### Step 2: Determine best number of trees using early stopping\n",
    "As a guard against overfitting while maximizing performance, we use **early stopping**. We start with a large number of trees and allow XGBoost to determine the optimal number by stopping training when the validation error no longer improves.\n",
    "\n",
    "The choice of hyperparameter starting values is important in this process. We begin with:\n",
    "- `n_estimators=1000` to ensure the model has enough capacity to learn meaningful patterns.\n",
    "- `learning_rate=0.1` as a reasonable default that balances learning speed and performance.\n",
    "- `eval_metric=\"logloss\"` as the metric of performance to optimize.\n",
    "- `early_stopping_rounds=50` to halt training if no improvement is seen for 50 rounds, preventing unnecessary computations.\n",
    "- `random_state = 808`\n",
    "\n",
    "We then `fit()` our specified baseline model, passing in the training sets as usual and specifying validation sets values for the `eval_set` parameter.\n",
    "\n",
    "Finally, get and print the best number of trees from the fitted baseline model.\n"
   ]
  },
  {
   "cell_type": "code",
   "execution_count": 4,
   "id": "55bf0fa0",
   "metadata": {
    "collapsed": true,
    "jupyter": {
     "outputs_hidden": true
    },
    "tags": []
   },
   "outputs": [
    {
     "name": "stdout",
     "output_type": "stream",
     "text": [
      "[0]\tvalidation_0-logloss:0.64173\n",
      "[1]\tvalidation_0-logloss:0.59874\n",
      "[2]\tvalidation_0-logloss:0.56352\n",
      "[3]\tvalidation_0-logloss:0.53716\n",
      "[4]\tvalidation_0-logloss:0.51702\n",
      "[5]\tvalidation_0-logloss:0.50016\n",
      "[6]\tvalidation_0-logloss:0.48135\n",
      "[7]\tvalidation_0-logloss:0.46672\n",
      "[8]\tvalidation_0-logloss:0.45634\n",
      "[9]\tvalidation_0-logloss:0.44405\n",
      "[10]\tvalidation_0-logloss:0.43728\n",
      "[11]\tvalidation_0-logloss:0.42904\n",
      "[12]\tvalidation_0-logloss:0.41955\n",
      "[13]\tvalidation_0-logloss:0.41371\n",
      "[14]\tvalidation_0-logloss:0.40708\n",
      "[15]\tvalidation_0-logloss:0.40332\n",
      "[16]\tvalidation_0-logloss:0.39853\n",
      "[17]\tvalidation_0-logloss:0.39618\n",
      "[18]\tvalidation_0-logloss:0.39130\n",
      "[19]\tvalidation_0-logloss:0.38952\n",
      "[20]\tvalidation_0-logloss:0.38569\n",
      "[21]\tvalidation_0-logloss:0.38372\n",
      "[22]\tvalidation_0-logloss:0.37811\n",
      "[23]\tvalidation_0-logloss:0.37809\n",
      "[24]\tvalidation_0-logloss:0.37631\n",
      "[25]\tvalidation_0-logloss:0.37448\n",
      "[26]\tvalidation_0-logloss:0.37215\n",
      "[27]\tvalidation_0-logloss:0.37295\n",
      "[28]\tvalidation_0-logloss:0.37361\n",
      "[29]\tvalidation_0-logloss:0.37298\n",
      "[30]\tvalidation_0-logloss:0.37111\n",
      "[31]\tvalidation_0-logloss:0.36678\n",
      "[32]\tvalidation_0-logloss:0.36474\n",
      "[33]\tvalidation_0-logloss:0.36441\n",
      "[34]\tvalidation_0-logloss:0.36178\n",
      "[35]\tvalidation_0-logloss:0.36257\n",
      "[36]\tvalidation_0-logloss:0.36204\n",
      "[37]\tvalidation_0-logloss:0.36236\n",
      "[38]\tvalidation_0-logloss:0.36360\n",
      "[39]\tvalidation_0-logloss:0.36289\n",
      "[40]\tvalidation_0-logloss:0.36378\n",
      "[41]\tvalidation_0-logloss:0.36328\n",
      "[42]\tvalidation_0-logloss:0.36317\n",
      "[43]\tvalidation_0-logloss:0.36350\n",
      "[44]\tvalidation_0-logloss:0.36341\n",
      "[45]\tvalidation_0-logloss:0.36350\n",
      "[46]\tvalidation_0-logloss:0.36414\n",
      "[47]\tvalidation_0-logloss:0.36552\n",
      "[48]\tvalidation_0-logloss:0.36637\n",
      "[49]\tvalidation_0-logloss:0.36420\n",
      "[50]\tvalidation_0-logloss:0.36479\n",
      "[51]\tvalidation_0-logloss:0.36663\n",
      "[52]\tvalidation_0-logloss:0.36640\n",
      "[53]\tvalidation_0-logloss:0.36630\n",
      "[54]\tvalidation_0-logloss:0.36706\n",
      "[55]\tvalidation_0-logloss:0.36776\n",
      "[56]\tvalidation_0-logloss:0.36805\n",
      "[57]\tvalidation_0-logloss:0.36718\n",
      "[58]\tvalidation_0-logloss:0.36727\n",
      "[59]\tvalidation_0-logloss:0.36867\n",
      "[60]\tvalidation_0-logloss:0.36933\n",
      "[61]\tvalidation_0-logloss:0.36911\n",
      "[62]\tvalidation_0-logloss:0.36886\n",
      "[63]\tvalidation_0-logloss:0.36849\n",
      "[64]\tvalidation_0-logloss:0.36910\n",
      "[65]\tvalidation_0-logloss:0.36992\n",
      "[66]\tvalidation_0-logloss:0.36991\n",
      "[67]\tvalidation_0-logloss:0.37017\n",
      "[68]\tvalidation_0-logloss:0.37117\n",
      "[69]\tvalidation_0-logloss:0.37183\n",
      "[70]\tvalidation_0-logloss:0.37184\n",
      "[71]\tvalidation_0-logloss:0.37326\n",
      "[72]\tvalidation_0-logloss:0.37371\n",
      "[73]\tvalidation_0-logloss:0.37386\n",
      "[74]\tvalidation_0-logloss:0.37340\n",
      "[75]\tvalidation_0-logloss:0.37504\n",
      "[76]\tvalidation_0-logloss:0.37641\n",
      "[77]\tvalidation_0-logloss:0.37706\n",
      "[78]\tvalidation_0-logloss:0.37773\n",
      "[79]\tvalidation_0-logloss:0.37839\n",
      "[80]\tvalidation_0-logloss:0.38038\n",
      "[81]\tvalidation_0-logloss:0.38096\n",
      "[82]\tvalidation_0-logloss:0.38221\n",
      "[83]\tvalidation_0-logloss:0.38273\n",
      "[84]\tvalidation_0-logloss:0.38356\n"
     ]
    },
    {
     "data": {
      "text/plain": [
       "XGBClassifier(base_score=0.5, booster='gbtree', callbacks=None,\n",
       "              colsample_bylevel=1, colsample_bynode=1, colsample_bytree=1,\n",
       "              early_stopping_rounds=50, enable_categorical=False,\n",
       "              eval_metric='logloss', gamma=0, gpu_id=-1,\n",
       "              grow_policy='depthwise', importance_type=None,\n",
       "              interaction_constraints='', learning_rate=0.1, max_bin=256,\n",
       "              max_cat_to_onehot=4, max_delta_step=0, max_depth=6, max_leaves=0,\n",
       "              min_child_weight=1, missing=nan, monotone_constraints='()',\n",
       "              n_estimators=1000, n_jobs=-1, num_parallel_tree=1,\n",
       "              predictor='auto', random_state=808, reg_alpha=0, reg_lambda=1, ...)"
      ]
     },
     "execution_count": 4,
     "metadata": {},
     "output_type": "execute_result"
    }
   ],
   "source": [
    "# ---- Define and fit baseline model ----\n",
    "\n",
    "# Define XGBoost model\n",
    "model = xgb.XGBClassifier(n_estimators = 1000,\n",
    "                          early_stopping_rounds = 50,\n",
    "                          learning_rate = 0.1,\n",
    "                          eval_metric = \"logloss\",\n",
    "                          random_state = 808,\n",
    "                          n_jobs = -1) # optimize comp power\n",
    " \n",
    "# Fit the model\n",
    "model.fit(X_train,\n",
    "          y_train,\n",
    "         eval_set=[(X_test, y_test)])"
   ]
  },
  {
   "cell_type": "code",
   "execution_count": 5,
   "id": "445db3d8-86a4-42b3-b329-15231b45e0ec",
   "metadata": {
    "tags": []
   },
   "outputs": [
    {
     "name": "stdout",
     "output_type": "stream",
     "text": [
      "Best number of trees for the baseline model: 34\n"
     ]
    }
   ],
   "source": [
    "print(f\"Best number of trees for the baseline model: {model.best_iteration}\")\n",
    "best_trees = model.best_iteration"
   ]
  },
  {
   "cell_type": "markdown",
   "id": "95ac1456",
   "metadata": {},
   "source": [
    "### Step 3: Tune Learning Rate\n",
    "\n",
    "The (`learning_rate` hyperparameter controls how much each tree contributes to improving the model's performance. A *higher* learning rate allows the model to learn quickly but risks missing the optimal solution and overfitting, while a *lower* learning rate makes learning slower but can improve generalization.\n",
    "\n",
    "To find the optimal value, we'll use **randomized search cross-validation** (`RandomizedSearchCV`) to test different learning rates in the 0.01 to 0.3 range. Instead of testing every possible value, this method samples a set number of candidates (`n_iter`) from a defined parameter distribution.  In this case, sampling 20 candidates from a uniform distribution between `0.01` and `0.31`. Check out the [documentation](https://docs.scipy.org/doc/scipy/reference/generated/scipy.stats.uniform.html) on `scipy.stats.uniform` to see how it differs from `random.uniform`. Be sure to use a random state of 808.\n",
    "\n",
    "After using `RandomizedSearchCV`, fit your model. Print the best learning rate. \n"
   ]
  },
  {
   "cell_type": "code",
   "execution_count": 6,
   "id": "393b5c0b-b212-440b-a052-0c9a7e406b0f",
   "metadata": {
    "tags": []
   },
   "outputs": [
    {
     "data": {
      "text/plain": [
       "RandomizedSearchCV(cv=5,\n",
       "                   estimator=XGBClassifier(base_score=None, booster=None,\n",
       "                                           callbacks=None,\n",
       "                                           colsample_bylevel=None,\n",
       "                                           colsample_bynode=None,\n",
       "                                           colsample_bytree=None,\n",
       "                                           early_stopping_rounds=None,\n",
       "                                           enable_categorical=False,\n",
       "                                           eval_metric=None, gamma=None,\n",
       "                                           gpu_id=None, grow_policy=None,\n",
       "                                           importance_type=None,\n",
       "                                           interaction_constraints=None,\n",
       "                                           learning_rate=None, max_bin=None,...\n",
       "                                           max_delta_step=None, max_depth=None,\n",
       "                                           max_leaves=None,\n",
       "                                           min_child_weight=None, missing=nan,\n",
       "                                           monotone_constraints=None,\n",
       "                                           n_estimators=34, n_jobs=None,\n",
       "                                           num_parallel_tree=None,\n",
       "                                           predictor=None, random_state=808,\n",
       "                                           reg_alpha=None, reg_lambda=None, ...),\n",
       "                   n_iter=20, n_jobs=-1,\n",
       "                   param_distributions={'learning_rate': <scipy.stats._distn_infrastructure.rv_frozen object at 0x7f12a14b8e10>},\n",
       "                   random_state=808)"
      ]
     },
     "execution_count": 6,
     "metadata": {},
     "output_type": "execute_result"
    }
   ],
   "source": [
    "# Define hyperparameter distributions\n",
    "param_dist = {\n",
    "    \"learning_rate\": uniform(0.01, 0.3),\n",
    "}\n",
    "\n",
    "\n",
    "# Define XGBoost model\n",
    "model_bt = xgb.XGBClassifier(n_estimators = best_trees,\n",
    "                          random_state = 808)\n",
    "\n",
    "# Set up RandomizedSearchCV (ranges for hyperparameters, randomly selects values in tuning)\n",
    "random_search = RandomizedSearchCV(\n",
    "    model_bt,\n",
    "    param_dist,\n",
    "    cv = 5,\n",
    "    n_iter = 20,\n",
    "    random_state = 808,\n",
    "    n_jobs = -1)\n",
    "\n",
    "# Fit the model\n",
    "random_search.fit(X_train, y_train) # do I need this\n"
   ]
  },
  {
   "cell_type": "code",
   "execution_count": 7,
   "id": "e4d6e0b6-2fd3-4c22-8450-b3d17ce25ac8",
   "metadata": {
    "tags": []
   },
   "outputs": [
    {
     "name": "stdout",
     "output_type": "stream",
     "text": [
      "Best learning rate: 0.19644487306375513\n"
     ]
    }
   ],
   "source": [
    "print(f\"Best learning rate: {random_search.best_params_['learning_rate']}\")\n",
    "\n",
    "best_learning_rate = random_search.best_params_['learning_rate']"
   ]
  },
  {
   "cell_type": "markdown",
   "id": "71907b11",
   "metadata": {},
   "source": [
    "### Step 4: Tune Tree-Specific Parameters\n",
    "\n",
    "Now that we've determined the best number of tree and learning rate, we need to tune the complexity of individual trees in our model. Initialize your model with the best number of trees and learning rate.Then, define a parameter dictionary that takes on the following values:  \n",
    "\n",
    "- `max_depth`(Controls how deep each tree can grow.  Takes integer values): A random integer from 3 to 10 ( inclusive of 3 and 10)\n",
    "- `min_child_weight`( Determines the minimum number of samples required in a leaf node. Takes integer values) : A random integer from 1 to 10 ( inclusive of 1 and 10)\n",
    "- `gamma` (Defines the minimum loss reduction needed to make a further split in a tree. Can take on values from a continuous range):  A uniform distribution from 0.05 to 0.10 - once again remember to check the `scipy.stats.uniform()` documentation! \n",
    "- `random_state = 808`\n",
    "\n",
    "To find the best combination, we again use `RandomizedSearchCV`, allowing us to efficiently sample hyperparameters and evaluate different configurations using cross-validation. After fitting the model, print the best parameters. "
   ]
  },
  {
   "cell_type": "code",
   "execution_count": 8,
   "id": "95c411a3",
   "metadata": {
    "collapsed": true,
    "jupyter": {
     "outputs_hidden": true
    },
    "tags": []
   },
   "outputs": [
    {
     "name": "stdout",
     "output_type": "stream",
     "text": [
      "[20:46:02] WARNING: ../src/learner.cc:627: \n",
      "Parameters: { \"verbose\" } might not be used.\n",
      "\n",
      "  This could be a false alarm, with some parameters getting used by language bindings but\n",
      "  then being mistakenly passed down to XGBoost core, or some parameter actually being used\n",
      "  but getting flagged wrongly here. Please open an issue if you find any such cases.\n",
      "\n",
      "\n"
     ]
    },
    {
     "data": {
      "text/plain": [
       "RandomizedSearchCV(cv=5,\n",
       "                   estimator=XGBClassifier(base_score=None, booster=None,\n",
       "                                           callbacks=None,\n",
       "                                           colsample_bylevel=None,\n",
       "                                           colsample_bynode=None,\n",
       "                                           colsample_bytree=None,\n",
       "                                           early_stopping_rounds=None,\n",
       "                                           enable_categorical=False,\n",
       "                                           eval_metric=None, gamma=None,\n",
       "                                           gpu_id=None, grow_policy=None,\n",
       "                                           importance_type=None,\n",
       "                                           interaction_constraints=None,\n",
       "                                           learning_rate=0.1964448730637551...\n",
       "                                           predictor=None, random_state=808,\n",
       "                                           reg_alpha=None, reg_lambda=None, ...),\n",
       "                   n_iter=20, n_jobs=-1,\n",
       "                   param_distributions={'gamma': <scipy.stats._distn_infrastructure.rv_frozen object at 0x7f13318ec050>,\n",
       "                                        'max_depth': <scipy.stats._distn_infrastructure.rv_frozen object at 0x7f1331964450>,\n",
       "                                        'min_child_weight': <scipy.stats._distn_infrastructure.rv_frozen object at 0x7f12a10dc950>},\n",
       "                   random_state=808)"
      ]
     },
     "execution_count": 8,
     "metadata": {},
     "output_type": "execute_result"
    }
   ],
   "source": [
    "# ---- Tune tree specific paraemters  ----\n",
    "\n",
    "# Define XGBoost model\n",
    "model_blr = xgb.XGBClassifier(\n",
    "    n_estimators = best_trees,\n",
    "    learning_rate  = best_learning_rate,\n",
    "    random_state = 808,\n",
    "    verbose=0)\n",
    "\n",
    "# Define parameter dictionary\n",
    "param_dist = {\n",
    "    'max_depth': randint(3, 11),\n",
    "    'min_child_weight': randint(1, 11),\n",
    "    'gamma': uniform(0.05, 0.05),\n",
    "}\n",
    "\n",
    "# Find best combination of parameteres\n",
    "random_search = RandomizedSearchCV(\n",
    "    model_blr,\n",
    "    param_dist,\n",
    "    n_iter = 20, # should I keep this\n",
    "    random_state=808,\n",
    "    cv = 5,\n",
    "    n_jobs = -1\n",
    ")\n",
    "\n",
    "\n",
    "# Fit the model to find the best parameters\n",
    "random_search.fit(X_train, y_train)\n",
    "\n"
   ]
  },
  {
   "cell_type": "code",
   "execution_count": 9,
   "id": "b0fcfd44-6657-4422-8be3-3174663fb9e3",
   "metadata": {
    "tags": []
   },
   "outputs": [
    {
     "name": "stdout",
     "output_type": "stream",
     "text": [
      "Best stochastic params: {'gamma': 0.08506612141420486, 'max_depth': 8, 'min_child_weight': 7}\n"
     ]
    }
   ],
   "source": [
    "print(\"Best stochastic params:\", random_search.best_params_)\n",
    "\n",
    "best_gamma = random_search.best_params_['gamma']\n",
    "best_max_depth = random_search.best_params_['max_depth']\n",
    "best_min_child_weight = random_search.best_params_['min_child_weight']"
   ]
  },
  {
   "cell_type": "markdown",
   "id": "2168bf81",
   "metadata": {},
   "source": [
    "### Step 5: Tune Stochastic Components\n",
    "\n",
    "Now, we are finally ready to tune the stochastic components of the XGBoost model.  These parameters help prevent overfitting by reducing correlation between trees. Initialize your model with the best number of trees, best learning rate,and your optimized tree values (**Note**: you can use \\**best_tree_parameters to unpack the the dictionary of optimzed tree values) .Then, define a parameter dictionary that takes on the following values:  \n",
    "\n",
    "- `subsample` (Controls the fraction of training samples used for each boosting round) : A uniform distribution between .5 and 1 (remeber to check `scipy.stats.uniform()` documentation! )\n",
    "- `colsample_bytree`(Specifies the fraction of features to consider when building each tree) : A uniform distribution between .5 and 1\n",
    "- `random_state = 808`\n",
    "\n",
    "We again use `RandomizedSearchCV` to find the best combination of these parameters. After fitting the model, print the best parameters. \n"
   ]
  },
  {
   "cell_type": "code",
   "execution_count": 10,
   "id": "32a61aee-57b1-470b-aa07-488dbe70f898",
   "metadata": {
    "tags": []
   },
   "outputs": [
    {
     "name": "stdout",
     "output_type": "stream",
     "text": [
      "[20:46:02] WARNING: ../src/learner.cc:627: \n",
      "Parameters: { \"verbose\" } might not be used.\n",
      "\n",
      "  This could be a false alarm, with some parameters getting used by language bindings but\n",
      "  then being mistakenly passed down to XGBoost core, or some parameter actually being used\n",
      "  but getting flagged wrongly here. Please open an issue if you find any such cases.\n",
      "\n",
      "\n"
     ]
    },
    {
     "data": {
      "text/plain": [
       "{'colsample_bytree': 0.8506612141420485, 'subsample': 0.7565024905664723}"
      ]
     },
     "execution_count": 10,
     "metadata": {},
     "output_type": "execute_result"
    }
   ],
   "source": [
    "\n",
    "# Define XGBoost model\n",
    "model_stochastic = xgb.XGBClassifier(\n",
    "    n_estimators = best_trees,\n",
    "    learning_rate  = best_learning_rate,\n",
    "    gamma = best_gamma,\n",
    "    max_depth = best_max_depth,\n",
    "    min_child_rate = best_min_child_weight, \n",
    "    random_state = 808)\n",
    "\n",
    "# Define dictionary\n",
    "param_dist = {\n",
    "    'subsample': uniform(0.5, 0.5),\n",
    "    'colsample_bytree': uniform(0.5, 0.5)\n",
    "}\n",
    "\n",
    "# Find best combination of parameters\n",
    "random_search = RandomizedSearchCV(\n",
    "    model_blr,\n",
    "    param_dist,\n",
    "    random_state = 808,\n",
    "    n_jobs = -1)\n",
    "\n",
    "random_search.fit(X_train, y_train)\n",
    "\n",
    "random_search.best_params_"
   ]
  },
  {
   "cell_type": "code",
   "execution_count": 11,
   "id": "69335338-6931-4441-af2a-0cf551bc6e2c",
   "metadata": {
    "tags": []
   },
   "outputs": [
    {
     "name": "stdout",
     "output_type": "stream",
     "text": [
      "Best stochastic params: {'colsample_bytree': 0.8506612141420485, 'subsample': 0.7565024905664723}\n"
     ]
    }
   ],
   "source": [
    "print(\"Best stochastic params:\", random_search.best_params_)\n",
    "\n",
    "best_stochastic_params = random_search.best_params_\n",
    "best_colsample_bytree = random_search.best_params_['colsample_bytree']\n",
    "best_subsample = random_search.best_params_['subsample']"
   ]
  },
  {
   "cell_type": "markdown",
   "id": "355cd2d2",
   "metadata": {},
   "source": [
    "### Step 6: Final Model Training and Evaluation\n",
    "\n",
    "With the best hyperparameters selected, we now train the final model on the full training dataset and evaluate it on the separate evaluation dataset.\n",
    "\n",
    "1. Prepare the evaluation data in the same manner as you did the training data\n",
    "\n",
    "2. Train final model using the best parameters found in previous tuning steps (`best_tree_params`, `best_stochastic_params`).Set  `eval_metric = \"logloss\"` \n",
    "\n",
    "3. Fit the model to the full training dataset and predict on the evaluation data \n"
   ]
  },
  {
   "cell_type": "code",
   "execution_count": 12,
   "id": "d02eb8b6-e79d-4e13-a6de-b10464506c8f",
   "metadata": {},
   "outputs": [],
   "source": [
    "# ---- Define X & y variables ----\n",
    "\n",
    "y_test = eval_data['Angaus_obs']\n",
    "X_test = eval_data.drop('Angaus_obs', axis = 1)"
   ]
  },
  {
   "cell_type": "code",
   "execution_count": 19,
   "id": "b68c8624-942b-4d1b-a665-77ca99685186",
   "metadata": {
    "scrolled": true,
    "tags": []
   },
   "outputs": [],
   "source": [
    "# ---- Define X & y variables ----\n",
    "\n",
    "y_test = eval_data['Angaus_obs']\n",
    "X_test = eval_data.drop('Angaus_obs', axis = 1)\n",
    "\n",
    "# ---- Encode X data ----\n",
    "\n",
    "# Initialize the encoder\n",
    "le = LabelEncoder()\n",
    "\n",
    "# Encode the \"Method\" column\n",
    "X_test[\"Method\"] = le.fit_transform(X_test[\"Method\"])\n",
    "\n",
    "\n",
    "# ---- Define the model ----\n",
    "\n",
    "# Define XGBoost model\n",
    "final_model = xgb.XGBClassifier(n_estimators = best_trees,\n",
    "                          learning_rate = best_learning_rate,\n",
    "                          colsample_bytree = best_colsample_bytree,\n",
    "                          subsample = best_subsample,\n",
    "                          eval_metric = \"logloss\",\n",
    "                          random_state = 808, \n",
    "                          n_jobs = -1)\n",
    "\n",
    "# Fit the model\n",
    "final_model.fit(X, y)\n",
    "\n",
    "# ---- Predict on evaluation data ----\n",
    "\n",
    "y_pred = final_model.predict(X_test)"
   ]
  },
  {
   "cell_type": "markdown",
   "id": "1f39d80a",
   "metadata": {},
   "source": [
    "### Step 7: Model Performance\n",
    "\n",
    "Compute and print the AUC and feature importances for your model."
   ]
  },
  {
   "cell_type": "code",
   "execution_count": 20,
   "id": "cc9df468",
   "metadata": {
    "tags": []
   },
   "outputs": [],
   "source": [
    "# ---- Calculate and plot ROC curve ----\n",
    "\n",
    "# Calculate probability\n",
    "final_model_probs = final_model.predict_proba(X_test)[:, 1]\n",
    "\n",
    "# Compute ROC curve\n",
    "fpr, tpr, thresholds = roc_curve(y_test, final_model_probs)\n",
    "\n",
    "# ---- Extract feature importance ----\n",
    "importances = final_model.feature_importances_\n",
    "feature_names = X_train.columns\n"
   ]
  },
  {
   "cell_type": "code",
   "execution_count": 21,
   "id": "9320123c-7b94-4d3f-8129-c35c9a5f9065",
   "metadata": {
    "tags": []
   },
   "outputs": [
    {
     "data": {
      "image/png": "[encoded data removed]",
      "text/plain": [
       "<Figure size 800x600 with 1 Axes>"
      ]
     },
     "metadata": {},
     "output_type": "display_data"
    }
   ],
   "source": [
    "# ---- Plot ROC curve ----\n",
    "\n",
    "# Plot histograms for both classes\n",
    "plt.figure(figsize=(8, 6))\n",
    "plt.plot(fpr, tpr, label=\"AUC\", color=\"orange\", lw=2)\n",
    "plt.plot([0, 1], [0, 1], color=\"gray\", linestyle=\"--\", label=\"Random Guess\")\n",
    "\n",
    "plt.xlabel(\"False Positive Rate\")\n",
    "plt.ylabel(\"True Positive Rate\")\n",
    "plt.title(\"XGB Classifier ROC Curve\")\n",
    "plt.legend()\n",
    "plt.legend()\n",
    "plt.show()"
   ]
  },
  {
   "cell_type": "code",
   "execution_count": 22,
   "id": "65793425-e218-4253-a5eb-13256f25f041",
   "metadata": {
    "tags": []
   },
   "outputs": [
    {
     "data": {
      "image/png": "[encoded data removed]",
      "text/plain": [
       "<Figure size 800x600 with 1 Axes>"
      ]
     },
     "metadata": {},
     "output_type": "display_data"
    }
   ],
   "source": [
    "# ---- Plot feature importance ----\n",
    "\n",
    "# Visualize feature importance with bar plot\n",
    "plt.figure(figsize=(8, 6))\n",
    "plt.barh(feature_names, importances,  color = \"purple\")\n",
    "plt.yticks(feature_names)\n",
    "plt.xlabel('Feature Importance')\n",
    "plt.title('Final XGB Model Feature Importance')\n",
    "plt.show()"
   ]
  },
  {
   "cell_type": "markdown",
   "id": "7476ef1d",
   "metadata": {},
   "source": [
    "### Step 8: The comparison\n",
    "How does your model's performance compare to the of Elith et al. (See Tables 2 and 3)?  Is there another way to compare the models in addition to predictive performance?  Whose model wins in that regard?"
   ]
  },
  {
   "cell_type": "markdown",
   "id": "07dc2a69-bf1e-4442-ad9e-22dc26e0f2b3",
   "metadata": {
    "tags": []
   },
   "source": [
    "\n",
    "Another way to compare the model in addition to predictive performance is in the models simplicity to develop, interpretability, and computational power. The XGB Model was more accurate in terms of predictive power, but the model is much more difficult to develop and interpret and its computational load is likely signficiantly higher.\n",
    "\n"
   ]
  }
 ],
 "metadata": {
  "kernelspec": {
   "display_name": "Python 3 (ipykernel)",
   "language": "python",
   "name": "python3"
  },
  "language_info": {
   "codemirror_mode": {
    "name": "ipython",
    "version": 3
   },
   "file_extension": ".py",
   "mimetype": "text/x-python",
   "name": "python",
   "nbconvert_exporter": "python",
   "pygments_lexer": "ipython3",
   "version": "3.7.13"
  }
 },
 "nbformat": 4,
 "nbformat_minor": 5
}
