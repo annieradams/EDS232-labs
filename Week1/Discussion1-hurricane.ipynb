{
 "cells": [
  {
   "cell_type": "code",
   "execution_count": 1,
   "id": "5a77209b-176e-4fa2-887d-eb2c3a13755a",
   "metadata": {
    "tags": []
   },
   "outputs": [],
   "source": [
    "# Load Libraries\n",
    "import numpy as np \n",
    "import pandas as pd\n",
    "import matplotlib.pyplot as plt\n",
    "from sklearn.model_selection import train_test_split\n",
    "from sklearn.linear_model import LinearRegression\n",
    "from sklearn.metrics import mean_squared_error, r2_score\n",
    "import sklearn.linear_model\n",
    "from sklearn.preprocessing import PolynomialFeatures\n",
    "\n",
    "np.random.seed(42)"
   ]
  },
  {
   "cell_type": "code",
   "execution_count": 2,
   "id": "d16b27e8-e6a7-42dc-809c-612d52820aea",
   "metadata": {
    "tags": []
   },
   "outputs": [],
   "source": [
    "# --- Read in data for dissolved oxygen & turbidity----\n",
    "hurricane_do = pd.read_excel('data/irene.xlsx', 5)\n",
    "hurricane_turbidity =  pd.read_excel('data/irene.xlsx', 2)\n",
    "\n",
    "# --- Merge datasets ----\n",
    "df = hurricane_do.merge(hurricane_turbidity)"
   ]
  },
  {
   "cell_type": "code",
   "execution_count": null,
   "id": "c9bbb4ab-ebf6-414f-9308-d6d018a30403",
   "metadata": {},
   "outputs": [],
   "source": []
  }
 ],
 "metadata": {
  "kernelspec": {
   "display_name": "Anaconda 3 (EDS232)",
   "language": "python",
   "name": "ml-env"
  },
  "language_info": {
   "codemirror_mode": {
    "name": "ipython",
    "version": 3
   },
   "file_extension": ".py",
   "mimetype": "text/x-python",
   "name": "python",
   "nbconvert_exporter": "python",
   "pygments_lexer": "ipython3",
   "version": "3.10.16"
  }
 },
 "nbformat": 4,
 "nbformat_minor": 5
}
