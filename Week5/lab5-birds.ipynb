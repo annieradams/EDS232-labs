{
 "cells": [
  {
   "cell_type": "markdown",
   "metadata": {},
   "source": [
    "# Lab 5: Species Distribution Modeling with Bagging \n",
    "Climate change and deforestation are accelerating ecosystem degradation, pushing animal species toward the brink of extinction. Understanding the distribution of animals and the factors that influence their ability to thrive in different environments is critical for conservation efforts. By studying these relationships, biological conservationists can develop informed strategies to protect endangered species and maintain biodiversity across diverse ecosystems.\n",
    "\n",
    "Species are defined by their behavioral, physiological, and ecological attributes, which shape their roles in ecosystems. In turn, ecosystems and their functions are deeply influenced by the species that inhabit them. This reciprocal relationship makes evaluating species' functional diversity and distributions essential for research in biogeography, community ecology, macroevolution, and conservation. Functional diversity is determined by traits such as diet, foraging strata, trophic level, activity cycle, litter size, generation length, habitat breadth, and body mass. These traits influence an animal’s ability to survive and adapt to different climates, playing a crucial role in ecosystem stability.\n",
    "\n",
    "In this lab, we will explore the connections between animal behaviors, functional traits, and species distributions across different climates."
   ]
  },
  {
   "cell_type": "code",
   "execution_count": 17,
   "metadata": {
    "tags": []
   },
   "outputs": [],
   "source": [
    "import pandas as pd\n",
    "import matplotlib.pyplot as plt\n",
    "import seaborn as sns\n",
    "from sklearn.ensemble import BaggingClassifier\n",
    "from sklearn.model_selection import train_test_split\n",
    "from sklearn.metrics import accuracy_score, roc_curve, auc\n",
    "from sklearn.preprocessing import StandardScaler, LabelEncoder\n",
    "from sklearn.inspection import permutation_importance\n",
    "from sklearn.utils import resample\n",
    "from sklearn.utils import shuffle\n",
    "\n",
    "import numpy as np"
   ]
  },
  {
   "cell_type": "markdown",
   "metadata": {},
   "source": [
    "### Step 1: Standardizing column names\n",
    "\n",
    "The dataset contains several columns that describe different aspects of bird diets. These column names currently include spaces, colons (:), and special characters, which can make them difficult to work with in code.\n",
    "\n",
    "Load the dataset (BirdTraitData.csv) into a Pandas DataFrame.\n",
    "\n",
    "The 7 column names that start with \"Diet:\" should be renamed to simpler version starting with `Diet_` in a way that conforms with this list of key variables:\n",
    "\n",
    "`AdultBodyMass`, `DietBreadth`, `Diet_Invertebrates`, `Diet_Vertebrates`,`Diet_Fruits`, `Diet_Flowers`, `Diet_Seeds`, `Diet_Plants`, `Diet_Other`, `TrophicLevel`,`ActivityCycle`, `ForagingStratum`, `MigratoryStatus`,`IncubationTime`, `ClutchSize`, `EggLength`, `EggWidth`,`EggMass`, `NestingHabit`,`MaxLongevity`, `Subarid`\n",
    "\n",
    "Then select only that list of 21 key variables. **Print the head of your dataframe.** "
   ]
  },
  {
   "cell_type": "code",
   "execution_count": 2,
   "metadata": {
    "tags": []
   },
   "outputs": [],
   "source": [
    "# ---- Read in project data --- , na_values = -999.0\n",
    "birds = pd.read_csv('BirdTraitData.csv', encoding = 'unicode_escape')"
   ]
  },
  {
   "cell_type": "markdown",
   "metadata": {},
   "source": [
    "AdultBodyMass, DietBreadth, Diet_Invertebrates, Diet_Vertebrates,Diet_Fruits, Diet_Flowers, Diet_Seeds, Diet_Plants, Diet_Other, TrophicLevel,ActivityCycle, ForagingStratum, MigratoryStatus,IncubationTime, ClutchSize, EggLength, EggWidth,EggMass, NestingHabit,MaxLongevity, Subarid"
   ]
  },
  {
   "cell_type": "code",
   "execution_count": 3,
   "metadata": {
    "tags": []
   },
   "outputs": [
    {
     "name": "stdout",
     "output_type": "stream",
     "text": [
      "             Order        Family      Genus                     Species  \\\n",
      "0  Accipitriformes  Accipitridae  Accipiter        Accipiter francesiae   \n",
      "1  Accipitriformes  Accipitridae  Accipiter           Accipiter henstii   \n",
      "2  Accipitriformes  Accipitridae  Accipiter  Accipiter madagascariensis   \n",
      "3  Accipitriformes  Accipitridae    Aviceda    Aviceda madagascariensis   \n",
      "4  Accipitriformes  Accipitridae      Buteo          Buteo brachypterus   \n",
      "\n",
      "          Authority               CommonName  AdultBodyMass  DietBreadth  \\\n",
      "0       Smith, 1834   Frances's Sparrowhawk           138.5            2   \n",
      "1  (Schlegel, 1873)         Henst's Goshawk          1050.0            1   \n",
      "2       Smith, 1834  Madagascar Sparrowhawk           181.0            2   \n",
      "3     (Smith, 1834)         Madagascar Baza           292.0            2   \n",
      "4    Hartlaub, 1860      Madagascar Buzzard           511.0            2   \n",
      "\n",
      "  Diet_Invertebrates Diet_Vertebrates Diet_Fruits Diet_Flowers Diet_Seeds  \\\n",
      "0                yes              yes          no           no         no   \n",
      "1                 no              yes          no           no         no   \n",
      "2                yes              yes          no           no         no   \n",
      "3                yes              yes          no           no         no   \n",
      "4                yes              yes          no           no         no   \n",
      "\n",
      "  Diet_Plants Diet_Other  TrophicLevel  ActivityCycle  ForagingStratum  \\\n",
      "0          no         no             3              3                3   \n",
      "1          no         no             3              2                3   \n",
      "2          no         no             3              3                3   \n",
      "3          no         no             3              3                3   \n",
      "4          no         no             3              3                4   \n",
      "\n",
      "  MigratoryStatus  IncubationTime  ClutchSize  EggLength  EggWidth  EggMass  \\\n",
      "0              no            31.0         3.0       3.85   -999.00   -999.0   \n",
      "1              no            39.5         2.5      58.50     46.95   -999.0   \n",
      "2              no            35.0         2.5      38.35     31.90   -999.0   \n",
      "3              no            31.0         1.5      43.70     35.20     29.1   \n",
      "4              no            35.5         2.0      54.50     45.00   -999.0   \n",
      "\n",
      "  NestingHabit  MaxLongevity  Dry  Humid  Montane  Subarid  Subhumid  \\\n",
      "0     arboreal        -999.0    1      1        1        1         1   \n",
      "1     arboreal        -999.0    1      1        1        1         1   \n",
      "2     arboreal        -999.0    1      1        1        1         1   \n",
      "3     arboreal        -999.0    1      1        1        1         1   \n",
      "4     arboreal         144.0    1      1        1        1         1   \n",
      "\n",
      "   Alaotra.Mangoro  Amoron.i.Mania  Analamanga  Analanjirofo  Androy  Anosy  \\\n",
      "0                1               1           1             1       1      1   \n",
      "1                1               1           1             1       1      1   \n",
      "2                1               1           1             1       1      1   \n",
      "3                1               1           1             1       0      1   \n",
      "4                1               1           1             1       1      1   \n",
      "\n",
      "   Atsimo.Andrefana  Atsimo.Atsinanana  Atsinanana  Betsiboka  Boeny  \\\n",
      "0                 1                  1           1          1      1   \n",
      "1                 1                  1           1          1      1   \n",
      "2                 1                  1           1          1      1   \n",
      "3                 1                  1           1          1      1   \n",
      "4                 1                  1           1          1      1   \n",
      "\n",
      "   Bongolava  DIANA  Haute.Matsiatra  Ihorombe  Itasy  Melaky  Menabe  SAVA  \\\n",
      "0          1      1                1         1      0       1       1     1   \n",
      "1          1      1                1         1      0       1       1     1   \n",
      "2          1      1                1         1      1       1       1     1   \n",
      "3          1      1                1         1      0       1       1     1   \n",
      "4          1      1                1         1      1       1       1     1   \n",
      "\n",
      "   Sofia  Vakinankaratra  Vatovavy.Fitovinany  Antananarivo  Antsiranana  \\\n",
      "0      1               1                    1             1            1   \n",
      "1      1               1                    1             1            1   \n",
      "2      1               1                    1             1            1   \n",
      "3      1               1                    1             1            1   \n",
      "4      1               1                    1             1            1   \n",
      "\n",
      "   Fianarantsoa  Mahajanga  Toamasina  Toliara                    References  \n",
      "0             1          1          1        1  109; 254; 168; 376; 368; 199  \n",
      "1             1          1          1        1       109; 254; 376; 200; 168  \n",
      "2             1          1          1        1       109; 254; 168; 376; 202  \n",
      "3             1          1          1        1  376; 331; 376; 168; 254; 195  \n",
      "4             1          1          1        1  109; 168; 254; 376; 198; 186  \n"
     ]
    }
   ],
   "source": [
    "# ---- Clean columns ----\n",
    "birds.columns = birds.columns.str.replace(': ','_')\n",
    "pd.set_option(\"display.max.columns\", None)\n",
    "\n",
    "# Rename columns\n",
    "birds_clean = birds.rename(columns = {\n",
    "    'Diet_invertebrates':'Diet_Invertebrates',\n",
    "    'Diet_vertebrates': 'Diet_Vertebrates',\n",
    "    'Diet_fruits':'Diet_Fruits',\n",
    "    'Diet_flower/nectar/pollen/gums':'Diet_Flowers',\n",
    "    'Diet_seeds': 'Diet_Seeds',\n",
    "    'Diet_other plant materials':'Diet_Plants',\n",
    "    'Diet_scavenge; garbage; carrion; offal; carcasses':'Diet_Other'})\n",
    "\n",
    "print(birds_clean.head())\n",
    "\n",
    "# Select columns of interest\n",
    "\n",
    "birds_clean = birds_clean[['AdultBodyMass', 'DietBreadth', 'Diet_Invertebrates', 'Diet_Vertebrates','Diet_Fruits', 'Diet_Flowers', 'Diet_Seeds', 'Diet_Plants', 'Diet_Other', 'TrophicLevel', 'ActivityCycle', 'ForagingStratum', 'MigratoryStatus', 'IncubationTime', 'ClutchSize', 'EggLength', 'EggWidth', 'EggMass', 'NestingHabit', 'MaxLongevity', 'Subarid']]"
   ]
  },
  {
   "cell_type": "markdown",
   "metadata": {},
   "source": [
    "### Step 2: Encode categorical variables\n",
    "In our dataset, some columns contain categorical (non-numeric) data, such as species names or habitat types that need to be converted to numerical representations. Let's use label encoding to assign a unique number to each category in a column.\n",
    "\n",
    "Encode the data using this process:\n",
    "1. Find all categorical columns in df using `.select_dtypes(include=['object'])`\n",
    "2. Loop through each categorical column and apply `LabelEncoder()`\n",
    "3. Replace the original categorical columns with their encoded values.\n",
    "4. Print the head of your dataframe to ensure that labels were in fact encoded. "
   ]
  },
  {
   "cell_type": "code",
   "execution_count": 4,
   "metadata": {
    "tags": []
   },
   "outputs": [
    {
     "name": "stdout",
     "output_type": "stream",
     "text": [
      "   AdultBodyMass  DietBreadth  Diet_Invertebrates  Diet_Vertebrates  \\\n",
      "0          138.5            2                   2                 2   \n",
      "1         1050.0            1                   1                 2   \n",
      "2          181.0            2                   2                 2   \n",
      "3          292.0            2                   2                 2   \n",
      "4          511.0            2                   2                 2   \n",
      "\n",
      "   Diet_Fruits  Diet_Flowers  Diet_Seeds  Diet_Plants  Diet_Other  \\\n",
      "0            1             1           1            1           1   \n",
      "1            1             1           1            1           1   \n",
      "2            1             1           1            1           1   \n",
      "3            1             1           1            1           1   \n",
      "4            1             1           1            1           1   \n",
      "\n",
      "   TrophicLevel  ActivityCycle  ForagingStratum  MigratoryStatus  \\\n",
      "0             3              3                3                0   \n",
      "1             3              2                3                0   \n",
      "2             3              3                3                0   \n",
      "3             3              3                3                0   \n",
      "4             3              3                4                0   \n",
      "\n",
      "   IncubationTime  ClutchSize  EggLength  EggWidth  EggMass  NestingHabit  \\\n",
      "0            31.0         3.0       3.85   -999.00   -999.0             2   \n",
      "1            39.5         2.5      58.50     46.95   -999.0             2   \n",
      "2            35.0         2.5      38.35     31.90   -999.0             2   \n",
      "3            31.0         1.5      43.70     35.20     29.1             2   \n",
      "4            35.5         2.0      54.50     45.00   -999.0             2   \n",
      "\n",
      "   MaxLongevity  Subarid  \n",
      "0        -999.0        1  \n",
      "1        -999.0        1  \n",
      "2        -999.0        1  \n",
      "3        -999.0        1  \n",
      "4         144.0        1  \n"
     ]
    }
   ],
   "source": [
    "encoder = LabelEncoder()\n",
    "\n",
    "# Define the features (drop columns that are not numeric or target)\n",
    "birds_cat_cols = birds_clean.select_dtypes(include=['object'])\n",
    "\n",
    "\n",
    "for column in birds_cat_cols:\n",
    "    birds_clean[column] = encoder.fit_transform(birds_clean[column]) \n",
    "    \n",
    "print(birds_clean.head())"
   ]
  },
  {
   "cell_type": "markdown",
   "metadata": {},
   "source": [
    "### Step 3: Defining features, splitting data, and training a bagging classifier\n",
    "Our goal for this analysis is to predict whether a given bird species is present in Subarid climate zones. \n",
    "\n",
    "1. Drop the corresponding variable from the features (X) and define it as the target (y). Then perform the train-test split with 70/30 train/test and a random state of 808.\n",
    "\n",
    "2. Initialize a bagging classifier with 100 trees, `oob_score =True`, `bootstrap = True` and `random_state = 808`.  \n",
    "\n",
    "3. Train the model."
   ]
  },
  {
   "cell_type": "code",
   "execution_count": 5,
   "metadata": {
    "tags": []
   },
   "outputs": [],
   "source": [
    "# Select the 'Name' column\n",
    "y = birds_clean['Subarid']\n",
    "X = birds_clean.drop('Subarid', axis = 1)"
   ]
  },
  {
   "cell_type": "code",
   "execution_count": 6,
   "metadata": {
    "tags": []
   },
   "outputs": [
    {
     "data": {
      "text/plain": [
       "Subarid\n",
       "1    217\n",
       "0     25\n",
       "Name: count, dtype: int64"
      ]
     },
     "execution_count": 6,
     "metadata": {},
     "output_type": "execute_result"
    }
   ],
   "source": [
    "birds_clean['Subarid'].value_counts()"
   ]
  },
  {
   "cell_type": "markdown",
   "metadata": {},
   "source": [
    "### Step 4: Make predictions and evaluate the model\n",
    "\n",
    "1. Generate predictions\n",
    "- Use the trained bagging model to predict values for the test set (`X_test`).\n",
    "\n",
    "2. Calculate the Out-of-Bag (OOB) Score\n",
    "- The OOB score is an internal validation score computed using samples not included in bootstrapped subsets.\n",
    "\n",
    "3. Compute model accuracy\n",
    "- Print the OOB score and the bagging accuracy score."
   ]
  },
  {
   "cell_type": "code",
   "execution_count": 7,
   "metadata": {
    "tags": []
   },
   "outputs": [
    {
     "name": "stdout",
     "output_type": "stream",
     "text": [
      "Bagging Accuracy: 0.945\n"
     ]
    }
   ],
   "source": [
    "# Split into training and test sets\n",
    "X_train, X_test, y_train, y_test = train_test_split(X, y, test_size = 0.3, random_state=808)\n",
    "\n",
    "\n",
    "# Train a Bagging Ensemble of Decision Trees (Decision tree is the default)\n",
    "bagging = BaggingClassifier(\n",
    "    # number of trees (not depth) with unique dataset\n",
    "    n_estimators = 100,\n",
    "    # for each tree put it on a bootstrap branch of the data\n",
    "    oob_score = True,\n",
    "    bootstrap= True,\n",
    "    random_state=808)\n",
    "\n",
    "bagging.fit(X_train, y_train)\n",
    "bagging_preds = bagging.predict(X_test)\n",
    "\n",
    "\n",
    "# Compare Accuracy\n",
    "print(f\"Bagging Accuracy: {accuracy_score(y_test, bagging_preds):.3f}\")"
   ]
  },
  {
   "cell_type": "markdown",
   "metadata": {},
   "source": [
    "### Step 5: Calculate and plot ROC curve\n",
    "\n",
    "- Use `label=f\"Bagging (AUC = {roc_auc_bagging:.2f})\"` to include the AUC value in the plot."
   ]
  },
  {
   "cell_type": "code",
   "execution_count": 8,
   "metadata": {
    "tags": []
   },
   "outputs": [],
   "source": [
    "# ---- Calculate and plot ROC curve ----\n",
    "\n",
    "# Calculate probability\n",
    "bagging_probs = bagging.predict_proba(X_test)[:, 1]\n",
    "\n",
    "# Compute ROC curve\n",
    "fpr, tpr, thresholds = roc_curve(y_test, bagging_probs)"
   ]
  },
  {
   "cell_type": "code",
   "execution_count": 9,
   "metadata": {
    "tags": []
   },
   "outputs": [
    {
     "data": {
      "image/png": "[encoded data removed]",
      "text/plain": [
       "<Figure size 800x600 with 1 Axes>"
      ]
     },
     "metadata": {},
     "output_type": "display_data"
    }
   ],
   "source": [
    "# ---- Plot ROC curve ----\n",
    "\n",
    "# Plot histograms for both classes\n",
    "plt.figure(figsize=(8, 6))\n",
    "plt.plot(fpr, tpr, label=\"Bagging (AUC = {roc_auc_bagging:.2f})\", color=\"orange\", lw=2)\n",
    "plt.plot([0, 1], [0, 1], color=\"gray\", linestyle=\"--\", label=\"Random Guess\")\n",
    "\n",
    "plt.xlabel(\"False Positive Rate\")\n",
    "plt.ylabel(\"True Positive Rate\")\n",
    "plt.title(\"Bagging Classifier ROC Curve\")\n",
    "plt.legend()\n",
    "plt.legend()\n",
    "plt.show()"
   ]
  },
  {
   "cell_type": "markdown",
   "metadata": {},
   "source": [
    "Now how does the ROC curve look? How does this compare to our classification accuracy metric?  What might be going on? "
   ]
  },
  {
   "cell_type": "code",
   "execution_count": 10,
   "metadata": {
    "tags": []
   },
   "outputs": [
    {
     "name": "stdout",
     "output_type": "stream",
     "text": [
      "Subarid\n",
      "1    217\n",
      "0     25\n",
      "Name: count, dtype: int64\n"
     ]
    }
   ],
   "source": [
    "print(birds_clean['Subarid'].value_counts())"
   ]
  },
  {
   "cell_type": "markdown",
   "metadata": {},
   "source": [
    "The bagging ROC curve resembles staircase steps, which indicates that it isn't performing well. Additionally, there are 217 observations of 1 and 0 of 25, indicating that the dataset is imbalanced, which means that our accuracy score of .94 is overconfident. I think that it's happening because the model is estimating the probability with more of a discrete pattern, because of the bagging process results with correlated results."
   ]
  },
  {
   "cell_type": "markdown",
   "metadata": {},
   "source": [
    "### Step 6: Introducing upsampling\n",
    "\n",
    "The ROC curve indicates that our model is not performing well.  This is a common issue in imbalanced datasets, where one class significantly outnumbers the other. To improve our model’s ability to correctly classify both groups, we will upsample the minority class so that both classes have equal representation in the training set.\n",
    "\n",
    "**Perform upsampling to balance the dataset**\n",
    "1. Separate the majority and minority classes:\n",
    "- Identify which class (0,1) is underrepresented (the minority class) and which is overrepresented (the majority class). \n",
    "- Separate both the `X_train` data and `y_train` data into all majority class and all minority class sets. \n",
    "2. Apply upsampling:\n",
    "- Use `resample()` to create additional synthetic samples of the minority class *with replacement* until it is the same size as the majority class data. Use a random state of 808. \n",
    "3. Combine the balanced classes:\n",
    "Merge the original majority class with the newly upsampled minority class.\n",
    "4. Shuffle the resampled dataset:\n",
    "- Randomly shuffle the data to ensure the model does not learn any unintended patterns from the order of the data. Use a random state of 808 for shuffling both the resampled X and y training data. \n",
    "5. Print the value counts for the resampled y training data to ensure that the data is balanced. \n"
   ]
  },
  {
   "cell_type": "markdown",
   "metadata": {},
   "source": [
    "I have so many Qs about this step:\n",
    "- Do I resample X and y? \n",
    "- Do I resample training AND testing?\n",
    "- When do we resample - before or after splitting? We are splitting before, I think this is so we avoid leakage\n",
    "\n",
    "Is there an easier way to do this than below.... BalancedBaggingClassifier()?  an ensemble method that trains multiple classifiers on different subsets of the training data and combines their predictions. The Balanced Bagging Classifier, in addition to this, addresses the problem of imbalanced data by using random under sampling to balance the class distribution in each subset. This helps to reduce the bias towards the majority class and improve the performance on the minority class."
   ]
  },
  {
   "cell_type": "code",
   "execution_count": 25,
   "metadata": {
    "tags": []
   },
   "outputs": [
    {
     "name": "stdout",
     "output_type": "stream",
     "text": [
      "Original value counts [150, 19]\n",
      "Upsampled value counts [150, 150]\n"
     ]
    }
   ],
   "source": [
    "# ---- Upsample the data ----\n",
    "\n",
    "# Separate majority and minority classes\n",
    "X_majority_class = X_train[y_train == 1]\n",
    "X_minority_class = X_train[y_train == 0]\n",
    "\n",
    "y_majority_class = y_train[y_train == 1]\n",
    "y_minority_class = y_train[y_train == 0]\n",
    "\n",
    "# Upsample the minority class (with replacement) for X\n",
    "X_minority_upsampled = resample(X_minority_class, \n",
    "                              replace=True,\n",
    "                              n_samples=len(X_majority_class),\n",
    "                              random_state=808)\n",
    "\n",
    "# Upsample the minority class (with replacement) for y\n",
    "y_minority_upsampled = resample(y_minority_class, \n",
    "                              replace=True,\n",
    "                              n_samples=len(y_majority_class),\n",
    "                              random_state=808)\n",
    "\n",
    "# Combine majority and upsampled minority class\n",
    "X_combined_upsampled = pd.concat([X_majority_class, X_minority_upsampled])\n",
    "y_combined_upsampled = pd.concat([y_majority_class, y_minority_upsampled])\n",
    "\n",
    "# Shuffle the dataset\n",
    "X_train_upsampled, y_train_upsampled = shuffle(X_combined_upsampled, y_combined_upsampled, random_state=808)\n",
    "\n",
    "# Print value counts \n",
    "print(\"Original value counts\", list(y_train.value_counts()))\n",
    "print(\"Upsampled value counts\", list(y_train_upsampled.value_counts()))"
   ]
  },
  {
   "cell_type": "markdown",
   "metadata": {},
   "source": [
    "### Step 7: Retrain and evaluate model using balanced data\n",
    "\n",
    "Now that we have addressed the class imbalance by upsampling the minority class, we will retrain the bagging classifier on the newly balanced dataset and evaluate its performance. This will help us determine whether handling class imbalance improves model accuracy and its ability to distinguish between classes. Create a bagging model using your balanced data. Use a random state of 808. Print the accuracy and and ROC Curve for this new model with balanced data. "
   ]
  },
  {
   "cell_type": "code",
   "execution_count": 27,
   "metadata": {
    "tags": []
   },
   "outputs": [
    {
     "name": "stdout",
     "output_type": "stream",
     "text": [
      "Bagging Accuracy: 0.824\n"
     ]
    }
   ],
   "source": [
    "# Split into training and test sets\n",
    "X_train, X_test, y_train, y_test = train_test_split(X_train_upsampled, y_train_upsampled, test_size = 0.3, random_state=808)\n",
    "\n",
    "\n",
    "# Train a Bagging Ensemble of Decision Trees (Decision tree is the default)\n",
    "bagging = BaggingClassifier(\n",
    "    # number of trees (not depth) with unique dataset\n",
    "    n_estimators = 100,\n",
    "    # for each tree put it on a bootstrap branch of the data\n",
    "    oob_score = True,\n",
    "    bootstrap= True,\n",
    "    random_state=808)\n",
    "\n",
    "bagging.fit(X_train, y_train)\n",
    "bagging_preds = bagging.predict(X_test)\n",
    "\n",
    "\n",
    "# Compare Accuracy\n",
    "print(f\"Bagging Accuracy: {accuracy_score(y_test, bagging_preds):.3f}\")"
   ]
  },
  {
   "cell_type": "code",
   "execution_count": 28,
   "metadata": {
    "tags": []
   },
   "outputs": [],
   "source": [
    "# ---- Calculate and plot ROC curve ----\n",
    "\n",
    "# Calculate probability\n",
    "bagging_probs = bagging.predict_proba(X_test)[:, 1]\n",
    "\n",
    "# Compute ROC curve\n",
    "fpr, tpr, thresholds = roc_curve(y_test, bagging_probs)"
   ]
  },
  {
   "cell_type": "code",
   "execution_count": 29,
   "metadata": {
    "tags": []
   },
   "outputs": [
    {
     "data": {
      "image/png": "[encoded data removed]",
      "text/plain": [
       "<Figure size 800x600 with 1 Axes>"
      ]
     },
     "metadata": {},
     "output_type": "display_data"
    }
   ],
   "source": [
    "# ---- Plot ROC curve ----\n",
    "\n",
    "# Plot histograms for both classes\n",
    "plt.figure(figsize=(8, 6))\n",
    "plt.plot(fpr, tpr, label=\"Bagging (AUC = {roc_auc_bagging:.2f})\", color=\"orange\", lw=2)\n",
    "plt.plot([0, 1], [0, 1], color=\"gray\", linestyle=\"--\", label=\"Random Guess\")\n",
    "\n",
    "plt.xlabel(\"False Positive Rate\")\n",
    "plt.ylabel(\"True Positive Rate\")\n",
    "plt.title(\"Bagging Classifier ROC Curve\")\n",
    "plt.legend()\n",
    "plt.legend()\n",
    "plt.show()"
   ]
  },
  {
   "cell_type": "markdown",
   "metadata": {},
   "source": [
    "How did this second model, trained on balanced data, do in comparison to the first on the accuracy and AUC metrics.  How should we interpret those results?  Did the upscaling prove useful?"
   ]
  },
  {
   "cell_type": "markdown",
   "metadata": {},
   "source": [
    "*your answer here*"
   ]
  },
  {
   "cell_type": "markdown",
   "metadata": {},
   "source": [
    "### Step 8: Analyzing feature importance with permutation importance\n",
    "\n",
    "Understanding which bird traits contribute the most to our model’s predictions is crucial for interpreting results. We covered in lecture how the results of ensemble methods are harder to interpret than a single decision tree.  But we do have some tools to do it.  In this step, we will compute permutation importance, which measures the impact of each trait by shuffling its values and observing the effect on model performance. This will help us identify which functional traits—such as diet, body mass, or habitat breadth—play the biggest role in predicting whether a species is found in a subarid environment.\n",
    "\n",
    "Use `permutation_importance()` to calculate the importance values.  You'll need to pass it the model, the feature and target test data, and an n_repeats value of 10."
   ]
  },
  {
   "cell_type": "code",
   "execution_count": null,
   "metadata": {
    "tags": []
   },
   "outputs": [],
   "source": []
  },
  {
   "cell_type": "markdown",
   "metadata": {},
   "source": [
    "What features are most important in our model of species distribution?"
   ]
  },
  {
   "cell_type": "markdown",
   "metadata": {},
   "source": [
    "*your answer here*"
   ]
  }
 ],
 "metadata": {
  "kernelspec": {
   "display_name": "Anaconda 3 (EDS232)",
   "language": "python",
   "name": "ml-env"
  },
  "language_info": {
   "codemirror_mode": {
    "name": "ipython",
    "version": 3
   },
   "file_extension": ".py",
   "mimetype": "text/x-python",
   "name": "python",
   "nbconvert_exporter": "python",
   "pygments_lexer": "ipython3",
   "version": "3.10.16"
  }
 },
 "nbformat": 4,
 "nbformat_minor": 4
}
