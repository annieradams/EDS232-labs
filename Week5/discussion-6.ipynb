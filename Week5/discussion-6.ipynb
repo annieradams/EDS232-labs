{
 "cells": [
  {
   "cell_type": "code",
   "execution_count": 3,
   "id": "4fccb0f5-dca1-4120-87ec-7789a527d8cd",
   "metadata": {
    "tags": []
   },
   "outputs": [],
   "source": [
    "import numpy as np\n",
    "import pandas as pd\n",
    "from sklearn.model_selection import train_test_split\n",
    "from sklearn.ensemble import RandomForestClassifier, BaggingClassifier\n",
    "from sklearn.tree import DecisionTreeClassifier\n",
    "from sklearn.preprocessing import StandardScaler\n",
    "from sklearn.preprocessing import LabelEncoder\n",
    "from sklearn.impute import SimpleImputer, KNNImputer\n",
    "from sklearn.metrics import mean_squared_error, accuracy_score\n",
    "from ucimlrepo import fetch_ucirepo "
   ]
  },
  {
   "cell_type": "code",
   "execution_count": 4,
   "id": "95eedb5e-fe89-4698-a960-b61ae3a33a6f",
   "metadata": {
    "collapsed": true,
    "jupyter": {
     "outputs_hidden": true
    },
    "tags": []
   },
   "outputs": [
    {
     "data": {
      "text/html": [
       "<div>\n",
       "<style scoped>\n",
       "    .dataframe tbody tr th:only-of-type {\n",
       "        vertical-align: middle;\n",
       "    }\n",
       "\n",
       "    .dataframe tbody tr th {\n",
       "        vertical-align: top;\n",
       "    }\n",
       "\n",
       "    .dataframe thead th {\n",
       "        text-align: right;\n",
       "    }\n",
       "</style>\n",
       "<table border=\"1\" class=\"dataframe\">\n",
       "  <thead>\n",
       "    <tr style=\"text-align: right;\">\n",
       "      <th></th>\n",
       "      <th>cap-shape</th>\n",
       "      <th>cap-surface</th>\n",
       "      <th>cap-color</th>\n",
       "      <th>bruises</th>\n",
       "      <th>odor</th>\n",
       "      <th>gill-attachment</th>\n",
       "      <th>gill-spacing</th>\n",
       "      <th>gill-size</th>\n",
       "      <th>gill-color</th>\n",
       "      <th>stalk-shape</th>\n",
       "      <th>stalk-root</th>\n",
       "      <th>stalk-surface-above-ring</th>\n",
       "      <th>stalk-surface-below-ring</th>\n",
       "      <th>stalk-color-above-ring</th>\n",
       "      <th>stalk-color-below-ring</th>\n",
       "      <th>veil-type</th>\n",
       "      <th>veil-color</th>\n",
       "      <th>ring-number</th>\n",
       "      <th>ring-type</th>\n",
       "      <th>spore-print-color</th>\n",
       "      <th>population</th>\n",
       "      <th>habitat</th>\n",
       "    </tr>\n",
       "  </thead>\n",
       "  <tbody>\n",
       "    <tr>\n",
       "      <th>0</th>\n",
       "      <td>x</td>\n",
       "      <td>s</td>\n",
       "      <td>n</td>\n",
       "      <td>t</td>\n",
       "      <td>p</td>\n",
       "      <td>f</td>\n",
       "      <td>c</td>\n",
       "      <td>n</td>\n",
       "      <td>k</td>\n",
       "      <td>e</td>\n",
       "      <td>e</td>\n",
       "      <td>s</td>\n",
       "      <td>s</td>\n",
       "      <td>w</td>\n",
       "      <td>w</td>\n",
       "      <td>p</td>\n",
       "      <td>w</td>\n",
       "      <td>o</td>\n",
       "      <td>p</td>\n",
       "      <td>k</td>\n",
       "      <td>s</td>\n",
       "      <td>u</td>\n",
       "    </tr>\n",
       "    <tr>\n",
       "      <th>1</th>\n",
       "      <td>x</td>\n",
       "      <td>s</td>\n",
       "      <td>y</td>\n",
       "      <td>t</td>\n",
       "      <td>a</td>\n",
       "      <td>f</td>\n",
       "      <td>c</td>\n",
       "      <td>b</td>\n",
       "      <td>k</td>\n",
       "      <td>e</td>\n",
       "      <td>c</td>\n",
       "      <td>s</td>\n",
       "      <td>s</td>\n",
       "      <td>w</td>\n",
       "      <td>w</td>\n",
       "      <td>p</td>\n",
       "      <td>w</td>\n",
       "      <td>o</td>\n",
       "      <td>p</td>\n",
       "      <td>n</td>\n",
       "      <td>n</td>\n",
       "      <td>g</td>\n",
       "    </tr>\n",
       "    <tr>\n",
       "      <th>2</th>\n",
       "      <td>b</td>\n",
       "      <td>s</td>\n",
       "      <td>w</td>\n",
       "      <td>t</td>\n",
       "      <td>l</td>\n",
       "      <td>f</td>\n",
       "      <td>c</td>\n",
       "      <td>b</td>\n",
       "      <td>n</td>\n",
       "      <td>e</td>\n",
       "      <td>c</td>\n",
       "      <td>s</td>\n",
       "      <td>s</td>\n",
       "      <td>w</td>\n",
       "      <td>w</td>\n",
       "      <td>p</td>\n",
       "      <td>w</td>\n",
       "      <td>o</td>\n",
       "      <td>p</td>\n",
       "      <td>n</td>\n",
       "      <td>n</td>\n",
       "      <td>m</td>\n",
       "    </tr>\n",
       "    <tr>\n",
       "      <th>3</th>\n",
       "      <td>x</td>\n",
       "      <td>y</td>\n",
       "      <td>w</td>\n",
       "      <td>t</td>\n",
       "      <td>p</td>\n",
       "      <td>f</td>\n",
       "      <td>c</td>\n",
       "      <td>n</td>\n",
       "      <td>n</td>\n",
       "      <td>e</td>\n",
       "      <td>e</td>\n",
       "      <td>s</td>\n",
       "      <td>s</td>\n",
       "      <td>w</td>\n",
       "      <td>w</td>\n",
       "      <td>p</td>\n",
       "      <td>w</td>\n",
       "      <td>o</td>\n",
       "      <td>p</td>\n",
       "      <td>k</td>\n",
       "      <td>s</td>\n",
       "      <td>u</td>\n",
       "    </tr>\n",
       "    <tr>\n",
       "      <th>4</th>\n",
       "      <td>x</td>\n",
       "      <td>s</td>\n",
       "      <td>g</td>\n",
       "      <td>f</td>\n",
       "      <td>n</td>\n",
       "      <td>f</td>\n",
       "      <td>w</td>\n",
       "      <td>b</td>\n",
       "      <td>k</td>\n",
       "      <td>t</td>\n",
       "      <td>e</td>\n",
       "      <td>s</td>\n",
       "      <td>s</td>\n",
       "      <td>w</td>\n",
       "      <td>w</td>\n",
       "      <td>p</td>\n",
       "      <td>w</td>\n",
       "      <td>o</td>\n",
       "      <td>e</td>\n",
       "      <td>n</td>\n",
       "      <td>a</td>\n",
       "      <td>g</td>\n",
       "    </tr>\n",
       "  </tbody>\n",
       "</table>\n",
       "</div>"
      ],
      "text/plain": [
       "  cap-shape cap-surface cap-color bruises odor gill-attachment gill-spacing  \\\n",
       "0         x           s         n       t    p               f            c   \n",
       "1         x           s         y       t    a               f            c   \n",
       "2         b           s         w       t    l               f            c   \n",
       "3         x           y         w       t    p               f            c   \n",
       "4         x           s         g       f    n               f            w   \n",
       "\n",
       "  gill-size gill-color stalk-shape stalk-root stalk-surface-above-ring  \\\n",
       "0         n          k           e          e                        s   \n",
       "1         b          k           e          c                        s   \n",
       "2         b          n           e          c                        s   \n",
       "3         n          n           e          e                        s   \n",
       "4         b          k           t          e                        s   \n",
       "\n",
       "  stalk-surface-below-ring stalk-color-above-ring stalk-color-below-ring  \\\n",
       "0                        s                      w                      w   \n",
       "1                        s                      w                      w   \n",
       "2                        s                      w                      w   \n",
       "3                        s                      w                      w   \n",
       "4                        s                      w                      w   \n",
       "\n",
       "  veil-type veil-color ring-number ring-type spore-print-color population  \\\n",
       "0         p          w           o         p                 k          s   \n",
       "1         p          w           o         p                 n          n   \n",
       "2         p          w           o         p                 n          n   \n",
       "3         p          w           o         p                 k          s   \n",
       "4         p          w           o         e                 n          a   \n",
       "\n",
       "  habitat  \n",
       "0       u  \n",
       "1       g  \n",
       "2       m  \n",
       "3       u  \n",
       "4       g  "
      ]
     },
     "execution_count": 4,
     "metadata": {},
     "output_type": "execute_result"
    }
   ],
   "source": [
    "# Fetch dataset \n",
    "mushroom = fetch_ucirepo(id=73) \n",
    "  \n",
    "# Save data as X and y variables\n",
    "X = mushroom.data.features \n",
    "y = np.ravel(mushroom.data.targets)\n",
    "\n",
    "# Expand dataframe columns and look at view dataframe\n",
    "pd.set_option('display.max_columns', None)\n",
    "X.head()"
   ]
  },
  {
   "cell_type": "markdown",
   "id": "45947137-9495-4462-9d87-162fd3f373e3",
   "metadata": {},
   "source": [
    "## Encoding Data"
   ]
  },
  {
   "cell_type": "code",
   "execution_count": 7,
   "id": "151977d4-0c46-4a0d-868e-58a51f97c9df",
   "metadata": {
    "tags": []
   },
   "outputs": [],
   "source": [
    "# Factorize all columns\n",
    "for col in X.columns:\n",
    "    X.loc[:,col] = pd.factorize(X[col], sort = True)[0]# locate all the rows \n",
    "\n",
    "# View first few rows of encoded data\n",
    "x.iloc[0:5, 0:5]"
   ]
  },
  {
   "cell_type": "markdown",
   "id": "813c8667-6b4d-4386-a3e9-4f8fe90fda26",
   "metadata": {},
   "source": [
    "Time to Impute!"
   ]
  },
  {
   "cell_type": "code",
   "execution_count": 8,
   "id": "ac907adb-2296-4c6d-8658-026d5d6eee35",
   "metadata": {
    "tags": []
   },
   "outputs": [
    {
     "data": {
      "text/plain": [
       "cap-shape                   0\n",
       "cap-surface                 0\n",
       "cap-color                   0\n",
       "bruises                     0\n",
       "odor                        0\n",
       "gill-attachment             0\n",
       "gill-spacing                0\n",
       "gill-size                   0\n",
       "gill-color                  0\n",
       "stalk-shape                 0\n",
       "stalk-root                  0\n",
       "stalk-surface-above-ring    0\n",
       "stalk-surface-below-ring    0\n",
       "stalk-color-above-ring      0\n",
       "stalk-color-below-ring      0\n",
       "veil-type                   0\n",
       "veil-color                  0\n",
       "ring-number                 0\n",
       "ring-type                   0\n",
       "spore-print-color           0\n",
       "population                  0\n",
       "habitat                     0\n",
       "dtype: int64"
      ]
     },
     "execution_count": 8,
     "metadata": {},
     "output_type": "execute_result"
    }
   ],
   "source": [
    "# Check for NAs\n",
    "X.isna().sum()"
   ]
  },
  {
   "cell_type": "code",
   "execution_count": 10,
   "id": "c9693170-d120-42a2-a2ef-87929ef39c37",
   "metadata": {
    "tags": []
   },
   "outputs": [],
   "source": [
    "# Create copy of X variables\n",
    "X_Na = X.copy()"
   ]
  },
  {
   "cell_type": "markdown",
   "id": "38d26bac-1d22-4ff0-bc49-e44404d3b316",
   "metadata": {},
   "source": [
    "To see which imputation methods perform best by comparing their results to actual dataset"
   ]
  },
  {
   "cell_type": "code",
   "execution_count": 11,
   "id": "ffb4efcb-dde8-4cba-b148-6139423aeb1b",
   "metadata": {
    "tags": []
   },
   "outputs": [],
   "source": [
    "# Randomly assigns 10% of new dataframe with NA values\n",
    "for col in X_Na.columns:\n",
    "    # for rows that you select putting na values in \n",
    "    X_Na.loc[X_Na.sample(frac = 0.1).index, col] = np.nan\n"
   ]
  },
  {
   "cell_type": "code",
   "execution_count": 14,
   "id": "c9e8592b-b33c-4731-8f08-3bb4e653f855",
   "metadata": {
    "collapsed": true,
    "jupyter": {
     "outputs_hidden": true
    },
    "tags": []
   },
   "outputs": [
    {
     "data": {
      "text/plain": [
       "cap-shape                   812\n",
       "cap-surface                 812\n",
       "cap-color                   812\n",
       "bruises                     812\n",
       "odor                        812\n",
       "gill-attachment             812\n",
       "gill-spacing                812\n",
       "gill-size                   812\n",
       "gill-color                  812\n",
       "stalk-shape                 812\n",
       "stalk-root                  812\n",
       "stalk-surface-above-ring    812\n",
       "stalk-surface-below-ring    812\n",
       "stalk-color-above-ring      812\n",
       "stalk-color-below-ring      812\n",
       "veil-type                   812\n",
       "veil-color                  812\n",
       "ring-number                 812\n",
       "ring-type                   812\n",
       "spore-print-color           812\n",
       "population                  812\n",
       "habitat                     812\n",
       "dtype: int64"
      ]
     },
     "execution_count": 14,
     "metadata": {},
     "output_type": "execute_result"
    }
   ],
   "source": [
    "X_Na.isna().sum()"
   ]
  },
  {
   "cell_type": "markdown",
   "id": "9010d79f-2190-4f1b-b842-8b15fb66d037",
   "metadata": {},
   "source": [
    "Now that we have NAs we want to impute"
   ]
  },
  {
   "cell_type": "markdown",
   "id": "5f767eb7-ff7a-4cd1-b702-a1bd58211e86",
   "metadata": {
    "tags": []
   },
   "source": [
    "### Impution method #1: Filling NA values with the mode of each column"
   ]
  },
  {
   "cell_type": "code",
   "execution_count": 16,
   "id": "db9b03df-ba33-49b5-820d-411dc5d48226",
   "metadata": {
    "tags": []
   },
   "outputs": [
    {
     "data": {
      "text/plain": [
       "cap-shape                   0\n",
       "cap-surface                 0\n",
       "cap-color                   0\n",
       "bruises                     0\n",
       "odor                        0\n",
       "gill-attachment             0\n",
       "gill-spacing                0\n",
       "gill-size                   0\n",
       "gill-color                  0\n",
       "stalk-shape                 0\n",
       "stalk-root                  0\n",
       "stalk-surface-above-ring    0\n",
       "stalk-surface-below-ring    0\n",
       "stalk-color-above-ring      0\n",
       "stalk-color-below-ring      0\n",
       "veil-type                   0\n",
       "veil-color                  0\n",
       "ring-number                 0\n",
       "ring-type                   0\n",
       "spore-print-color           0\n",
       "population                  0\n",
       "habitat                     0\n",
       "dtype: int64"
      ]
     },
     "execution_count": 16,
     "metadata": {},
     "output_type": "execute_result"
    }
   ],
   "source": [
    "# Impute with mode\n",
    "X_mode_impute = X_Na.fillna(X_Na.mode().iloc[0])\n",
    "\n",
    "# Check to make sure there are no NAs\n",
    "X_mode_impute.isna().sum()"
   ]
  },
  {
   "cell_type": "markdown",
   "id": "febfa29f-8ae0-4ecc-a8eb-a80917e79159",
   "metadata": {
    "tags": []
   },
   "source": [
    "### Impution method #2: Filling NA values with the median of each column"
   ]
  },
  {
   "cell_type": "code",
   "execution_count": 19,
   "id": "767ca436-3c2f-46c3-b0ea-1a1320e2058a",
   "metadata": {
    "tags": []
   },
   "outputs": [
    {
     "data": {
      "text/plain": [
       "cap-shape                   0\n",
       "cap-surface                 0\n",
       "cap-color                   0\n",
       "bruises                     0\n",
       "odor                        0\n",
       "gill-attachment             0\n",
       "gill-spacing                0\n",
       "gill-size                   0\n",
       "gill-color                  0\n",
       "stalk-shape                 0\n",
       "stalk-root                  0\n",
       "stalk-surface-above-ring    0\n",
       "stalk-surface-below-ring    0\n",
       "stalk-color-above-ring      0\n",
       "stalk-color-below-ring      0\n",
       "veil-type                   0\n",
       "veil-color                  0\n",
       "ring-number                 0\n",
       "ring-type                   0\n",
       "spore-print-color           0\n",
       "population                  0\n",
       "habitat                     0\n",
       "dtype: int64"
      ]
     },
     "execution_count": 19,
     "metadata": {},
     "output_type": "execute_result"
    }
   ],
   "source": [
    "# ---- Impute with the median ----\n",
    "\n",
    "# Initialize the imputer\n",
    "median_impute = SimpleImputer(strategy = 'median')\n",
    "X_median_impute = median_impute.fit_transform(X_Na)\n",
    "X_median_impute = pd.DataFrame(X_median_impute, columns = X.columns)\n",
    "\n",
    "# Check to make sure there are no NAs\n",
    "X_median_impute.isna().sum()"
   ]
  },
  {
   "cell_type": "code",
   "execution_count": 22,
   "id": "0e44f0a8-cece-49f9-a9e7-5e12b6587557",
   "metadata": {
    "collapsed": true,
    "jupyter": {
     "outputs_hidden": true
    },
    "tags": []
   },
   "outputs": [
    {
     "data": {
      "text/plain": [
       "cap-shape                   0\n",
       "cap-surface                 0\n",
       "cap-color                   0\n",
       "bruises                     0\n",
       "odor                        0\n",
       "gill-attachment             0\n",
       "gill-spacing                0\n",
       "gill-size                   0\n",
       "gill-color                  0\n",
       "stalk-shape                 0\n",
       "stalk-root                  0\n",
       "stalk-surface-above-ring    0\n",
       "stalk-surface-below-ring    0\n",
       "stalk-color-above-ring      0\n",
       "stalk-color-below-ring      0\n",
       "veil-type                   0\n",
       "veil-color                  0\n",
       "ring-number                 0\n",
       "ring-type                   0\n",
       "spore-print-color           0\n",
       "population                  0\n",
       "habitat                     0\n",
       "dtype: int64"
      ]
     },
     "execution_count": 22,
     "metadata": {},
     "output_type": "execute_result"
    }
   ],
   "source": [
    "# ---- Impute with KNN, majority class of neighbors ----\n",
    "\n",
    "# Initialize the imputer\n",
    "knn_impute = KNNImputer(n_neighbors = 5)\n",
    "X_knn_impute = knn_impute.fit_transform(X_Na)\n",
    "X_knn_impute = pd.DataFrame(X_knn_impute, columns = X.columns)\n",
    "\n",
    "# Check to make sure that there are no NAs\n",
    "X_knn_impute.isna().sum()"
   ]
  },
  {
   "cell_type": "markdown",
   "id": "63f44f0c-49e4-4e88-aaa4-763728690c52",
   "metadata": {},
   "source": [
    "### Lets see which one of these performed best using MSE"
   ]
  },
  {
   "cell_type": "code",
   "execution_count": 23,
   "id": "76810ff5-a976-450d-b82e-80dcf455a67b",
   "metadata": {
    "tags": []
   },
   "outputs": [
    {
     "name": "stdout",
     "output_type": "stream",
     "text": [
      "Mode Performance:  0.44865941542455573\n",
      "Median Performance:  0.2537710935052146\n",
      "KNN Performance:  0.12202609551944855\n"
     ]
    }
   ],
   "source": [
    "# --- Use MSE for model performance ----\n",
    "mse_mode = mean_squared_error(X, X_mode_impute)\n",
    "mse_median = mean_squared_error(X, X_median_impute)\n",
    "mse_knn = mean_squared_error(X, X_knn_impute)\n",
    "\n",
    "print(\"Mode Performance: \", mse_mode)\n",
    "print(\"Median Performance: \", mse_median)\n",
    "print(\"KNN Performance: \", mse_knn)"
   ]
  },
  {
   "cell_type": "markdown",
   "id": "8f23bb51-7213-4b80-aa1d-c1ae72667575",
   "metadata": {},
   "source": [
    "### Bagging classifier with og data"
   ]
  },
  {
   "cell_type": "code",
   "execution_count": 24,
   "id": "c9a4110b-e788-482b-8623-1dff25177562",
   "metadata": {
    "tags": []
   },
   "outputs": [],
   "source": [
    "# Split actual data\n",
    "X_train, X_test, y_train, y_test = train_test_split(X, y, test_size = 0.3, random_state = 42)"
   ]
  },
  {
   "cell_type": "code",
   "execution_count": 27,
   "id": "9eb1655d-dd0f-41ad-b869-e7b55e74e69c",
   "metadata": {
    "tags": []
   },
   "outputs": [
    {
     "name": "stdout",
     "output_type": "stream",
     "text": [
      "Number of features:  1 Random Forest Accuracy:  0.916735028712059\n",
      "Number of features:  4 Random Forest Accuracy:  0.9848236259228876\n",
      "Number of features:  7 Random Forest Accuracy:  0.9868744872846595\n",
      "Number of features:  10 Random Forest Accuracy:  0.9835931091058244\n",
      "Number of features:  13 Random Forest Accuracy:  0.9823625922887613\n",
      "Number of features:  16 Random Forest Accuracy:  0.9860541427399507\n",
      "Number of features:  19 Random Forest Accuracy:  0.9819524200164069\n",
      "Number of features:  22 Random Forest Accuracy:  0.9577522559474979\n"
     ]
    }
   ],
   "source": [
    "# Number of features to include for tuning\n",
    "num_features = [1,4,7,10,13,16,19,22]\n",
    "accuracy = []\n",
    "\n",
    "for feature in num_features:\n",
    "    rf_classifier = RandomForestClassifier(\n",
    "        n_estimators = 50,\n",
    "        max_depth = 3,\n",
    "        random_state = 42,\n",
    "        max_features = feature\n",
    "    )\n",
    "\n",
    "    rf_classifier.fit(X_train, y_train)\n",
    "    \n",
    "    # Predict and evaluate results\n",
    "    y_pred = rf_classifier.predict(X_test)\n",
    "    rf_accuracy = accuracy_score(y_test, y_pred)\n",
    "    accuracy.append(rf_accuracy)\n",
    "    \n",
    "    print(\"Number of features: \", feature, \"Random Forest Accuracy: \", rf_accuracy)"
   ]
  },
  {
   "cell_type": "code",
   "execution_count": 32,
   "id": "637b5d3a-fe3b-4be7-9956-c176256da2d7",
   "metadata": {
    "tags": []
   },
   "outputs": [
    {
     "name": "stdout",
     "output_type": "stream",
     "text": [
      "Number of features:  1 Random Forest Accuracy:  0.916735028712059\n",
      "Number of features:  4 Random Forest Accuracy:  0.9848236259228876\n",
      "Number of features:  7 Random Forest Accuracy:  0.9827727645611156\n",
      "Number of features:  10 Random Forest Accuracy:  0.9811320754716981\n",
      "Number of features:  13 Random Forest Accuracy:  0.9762100082034455\n",
      "Number of features:  16 Random Forest Accuracy:  0.9770303527481542\n",
      "Number of features:  19 Random Forest Accuracy:  0.9622641509433962\n",
      "Number of features:  22 Random Forest Accuracy:  0.9425758818703855\n"
     ]
    }
   ],
   "source": [
    "# Split imputed data\n",
    "X_train, X_Test, y_train, y_test = train_test_split(X_mode_impute, y, test_size = 0.3, random_state = 42)\n",
    "\n",
    "# Number of features to include for tuning\n",
    "num_features = [1,4,7,10,13,16,19,22]\n",
    "accuracy = []\n",
    "\n",
    "for feature in num_features:\n",
    "    rf_classifier = RandomForestClassifier(\n",
    "        n_estimators = 50,\n",
    "        max_depth = 3,\n",
    "        random_state = 42,\n",
    "        max_features = feature\n",
    "    )\n",
    "\n",
    "    rf_classifier.fit(X_train, y_train)\n",
    "    \n",
    "    # Predict and evaluate results\n",
    "    y_pred = rf_classifier.predict(X_test)\n",
    "    rf_accuracy = accuracy_score(y_test, y_pred)\n",
    "    accuracy.append(rf_accuracy)\n",
    "    \n",
    "    print(\"Number of features: \", feature, \"Random Forest Accuracy: \", rf_accuracy)"
   ]
  },
  {
   "cell_type": "code",
   "execution_count": null,
   "id": "b9edaa4d-08c8-432f-9e77-edcaeaa154f7",
   "metadata": {},
   "outputs": [],
   "source": []
  }
 ],
 "metadata": {
  "kernelspec": {
   "display_name": "Anaconda 3 (EDS232)",
   "language": "python",
   "name": "ml-env"
  },
  "language_info": {
   "codemirror_mode": {
    "name": "ipython",
    "version": 3
   },
   "file_extension": ".py",
   "mimetype": "text/x-python",
   "name": "python",
   "nbconvert_exporter": "python",
   "pygments_lexer": "ipython3",
   "version": "3.10.16"
  }
 },
 "nbformat": 4,
 "nbformat_minor": 5
}
