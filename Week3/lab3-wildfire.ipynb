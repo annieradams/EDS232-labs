{
 "cells": [
  {
<<<<<<< HEAD
   "cell_type": "markdown",
   "id": "b34d9e6e-0779-497d-8ffe-479f0d784c8d",
   "metadata": {
    "tags": []
   },
   "source": [
    "# *UCSB MEDS* - *EDS 232 - Machine Learning*\n",
    "\n",
    "## **Author:** Nicole Pepper\n",
    "\n",
    "\n",
    "Collaborators: Carmen Hoyt, Marina Kochuten"
   ]
  },
  {
   "cell_type": "code",
   "execution_count": 3,
=======
   "cell_type": "code",
   "execution_count": null,
>>>>>>> 74b9cc60e7c275585852b53fadd1708eaab8cf5e
   "id": "6d41e7de-5f0c-4baf-a37f-ec5dbe4f7428",
   "metadata": {
    "tags": []
   },
   "outputs": [],
   "source": [
<<<<<<< HEAD
    "# Load libraries\n",
    "import pandas as pd\n",
    "import numpy as np\n",
    "import seaborn as sns\n",
=======
    "# Imports\n",
    "import pandas as pd\n",
    "import numpy as np\n",
>>>>>>> 74b9cc60e7c275585852b53fadd1708eaab8cf5e
    "from sklearn.model_selection import train_test_split\n",
    "from sklearn.preprocessing import StandardScaler\n",
    "from sklearn.linear_model import LogisticRegression\n",
    "from sklearn.dummy import DummyClassifier\n",
    "from sklearn.metrics import accuracy_score, confusion_matrix, classification_report, roc_curve, roc_auc_score, ConfusionMatrixDisplay\n",
<<<<<<< HEAD
    "import matplotlib.pyplot as plt"
=======
    "import matplotlib.pyplot as plt\n"
>>>>>>> 74b9cc60e7c275585852b53fadd1708eaab8cf5e
   ]
  },
  {
   "cell_type": "markdown",
   "id": "e492775e-957c-40b4-b64f-5de93dbea5e1",
   "metadata": {},
   "source": [
<<<<<<< HEAD
    "# Lab 3: Fire and Tree Mortality\n",
=======
    "# Lab 4: Fire and Tree Mortality\n",
>>>>>>> 74b9cc60e7c275585852b53fadd1708eaab8cf5e
    "\n",
    "# About the data\n",
    "Wildfires are increasingly frequent and severe due to climate change. Predicting tree mortality following a wildfire is critical for forest management, ecosystem recovery, and carbon sequestration planning. In this lab, we will build a logistic regression model to predict the probability of tree mortality one year after a wildfire\n",
    "\n",
    "The database we'll be working with today includes observations of individual trees involved in prescribed fires and wildfires occurring over 35 years, from 1981 to 2016. It is drawn from a fire and tree mortality database from the US Forest Service (see data description for the full database here: [link](https://www.nature.com/articles/s41597-020-0522-7#Sec10)).\n",
    "\n",
    "The target variable we'll use is `yr1status`, which is a binary variable (0=alive, 1=dead).  This tells us if a tree has died one year after a fire event.\n",
    "\n",
    "The features we'll use are `YrFireName`, `Times_burned`, `Species`, `Genus_species`,\n",
    "    `DBH_cm`, `HT_m`, `CR_pre`, and `CR_post`."
   ]
  },
  {
   "cell_type": "markdown",
   "id": "8f2c5ce6-eb43-4544-8b88-c306a7618c85",
   "metadata": {},
   "source": [
    "## Step 1: Check the metadata\n",
    "\n",
    "Look at the metadata and provide a description on what each variable represents in the Description column below.\n"
   ]
  },
  {
   "cell_type": "markdown",
   "id": "c7b239ac-123f-4458-bf2c-fc46dcf5cc0a",
   "metadata": {},
   "source": [
    "| Feature                     | Description                                                                                   |\n",
    "|-----------------------------|-----------------------------------------------------------------------------------------------| \n",
<<<<<<< HEAD
    "| yr1status                   | Tree status in year 1 post-fire. (0=alive, 1=dead). Counted in growing seasons − if fire occurred in spring prior to bud break, 1 year post-fire is that same year as fire. If fire occurred during growing season or fall, 1 year post-fire is the next calendar year after fire.\n",
    "| YrFireName                  |    Year and name of the fire.                                 \n",
    "| Times_burned                |     The number of times this tree was burned.       \n",
    "| Species                     |    First two letters of genus and first two letters of species, sometimes followed by a number. Symbols follow those in the PLANTS National Database (http://plants.usda.gov). 2TREE = unknown tree species.                                                 \n",
    "| Genus_species               |   Genus of species. NA = species not assessed in original dataset.       \n",
    "| DBH_cm                      | Diameter at breast height rounded to nearest 0.1 cm (cm = centimeters). NA = not assessed.\n",
    "| HT_m                        | Pre-fire tree height rounded to nearest 0.01 m (m=meters). NA = not assessed.\n",
    "| CR_pre                      | Pre-fire live crown ratio. Crown length divided by tree height (proportion rounded to nearest 0.01). NA = not assessed.\n",
    "| CR_post                     | Post-fire live crown ratio. Crown length divided by tree height (proportion rounded to nearest 0.01). NA = not assessed."
=======
    "| yr1status                   |\n",
    "| YrFireName                  |                                     \n",
    "| Times_burned                |                                              \n",
    "| Species                     |                                                     \n",
    "| Genus_species               |                                       \n",
    "| DBH_cm                      | \n",
    "| HT_m                        |\n",
    "| CR_pre                      | \n",
    "| CR_post                     |"
>>>>>>> 74b9cc60e7c275585852b53fadd1708eaab8cf5e
   ]
  },
  {
   "cell_type": "markdown",
   "id": "55d355a0",
   "metadata": {},
   "source": [
    "## Step 2: Fetch  data\n",
    "Read in the data set and filter to retain only the variables of interest.  Then check for incomplete observations and remove any rows containing NaNs.  How many observations does that leave us with? **Print your answer.**"
   ]
  },
  {
   "cell_type": "code",
<<<<<<< HEAD
   "execution_count": 4,
=======
   "execution_count": null,
>>>>>>> 74b9cc60e7c275585852b53fadd1708eaab8cf5e
   "id": "ac926dc2",
   "metadata": {
    "tags": []
   },
   "outputs": [],
   "source": [
<<<<<<< HEAD
    "# Load project data\n",
    "trees_dat = pd.read_csv('/courses/EDS232/Data/FTM_trees.csv',\n",
    "                        \n",
    "# Select columns of interest\n",
    "usecols=['yr1status', 'YrFireName', 'Times_burned', 'Species', \n",
    "        'Genus_species', 'DBH_cm', 'HT_m', 'CR_pre', 'CR_post']\n",
    ")"
   ]
  },
  {
   "cell_type": "code",
   "execution_count": 5,
   "id": "b0fdac46-71ef-49d2-9e71-83b317d4287f",
   "metadata": {
    "tags": []
   },
   "outputs": [
    {
     "name": "stdout",
     "output_type": "stream",
     "text": [
      "YrFireName            0\n",
      "Species               0\n",
      "Times_burned          0\n",
      "Genus_species         0\n",
      "DBH_cm             3973\n",
      "HT_m              61650\n",
      "CR_pre           119342\n",
      "yr1status         33263\n",
      "CR_post          130605\n",
      "dtype: int64\n",
      "Number of rows pre NA filter: 169843\n",
      "Number of rows post NA filter: 36509\n"
     ]
    }
   ],
   "source": [
    "# ---- Drop NAs ----\n",
    "\n",
    "# Check for rows with NAs \n",
    "na_counts = trees_dat.isna().sum()\n",
    "print(na_counts)\n",
    "\n",
    "# Count how many rows there are pre-removal of NAs \n",
    "print(f'Number of rows pre NA filter: {len(trees_dat)}')\n",
    "\n",
    "# Drop rows with NAs \n",
    "trees_clean = trees_dat.dropna(axis=0)\n",
    "\n",
    "# Count number of rows post NA removal\n",
    "print(f'Number of rows post NA filter: {len(trees_clean)}')"
=======
    "# Load the dataset\n",
    "trees_dat = pd.read_csv('/courses/EDS232/Data/FTM_trees.csv')"
>>>>>>> 74b9cc60e7c275585852b53fadd1708eaab8cf5e
   ]
  },
  {
   "cell_type": "markdown",
   "id": "aaf806bf",
   "metadata": {},
   "source": [
    "## Step 3: Data Preprocessing\n",
    "1. We recode categorical predictors to zero-based integer form because most machine learning models, including logistic regression, cannot work directly with categorical data represented as strings or labels. Instead, models require numerical input. Let's do that here. \n"
   ]
  },
  {
   "cell_type": "code",
<<<<<<< HEAD
   "execution_count": 6,
=======
   "execution_count": null,
>>>>>>> 74b9cc60e7c275585852b53fadd1708eaab8cf5e
   "id": "1e41fb79-ad31-4162-ac76-887461bb4160",
   "metadata": {
    "tags": []
   },
<<<<<<< HEAD
   "outputs": [
    {
     "data": {
      "text/plain": [
       "YrFireName        object\n",
       "Species           object\n",
       "Times_burned       int64\n",
       "Genus_species     object\n",
       "DBH_cm           float64\n",
       "HT_m             float64\n",
       "CR_pre           float64\n",
       "yr1status        float64\n",
       "CR_post          float64\n",
       "dtype: object"
      ]
     },
     "execution_count": 6,
     "metadata": {},
     "output_type": "execute_result"
    }
   ],
   "source": [
    "# Inspect data types\n",
    "trees_clean.dtypes"
   ]
  },
  {
   "cell_type": "code",
   "execution_count": 7,
   "id": "8c253ad1-3a7f-4d3f-9daa-366433ad74bf",
   "metadata": {
    "tags": []
   },
   "outputs": [
    {
     "name": "stderr",
     "output_type": "stream",
     "text": [
      "/tmp/ipykernel_1460423/1631469486.py:2: SettingWithCopyWarning: \n",
      "A value is trying to be set on a copy of a slice from a DataFrame.\n",
      "Try using .loc[row_indexer,col_indexer] = value instead\n",
      "\n",
      "See the caveats in the documentation: https://pandas.pydata.org/pandas-docs/stable/user_guide/indexing.html#returning-a-view-versus-a-copy\n",
      "  trees_clean.loc[:, 'YrFireName_cat'] = trees_clean['YrFireName'].astype('category').cat.codes\n",
      "/tmp/ipykernel_1460423/1631469486.py:3: SettingWithCopyWarning: \n",
      "A value is trying to be set on a copy of a slice from a DataFrame.\n",
      "Try using .loc[row_indexer,col_indexer] = value instead\n",
      "\n",
      "See the caveats in the documentation: https://pandas.pydata.org/pandas-docs/stable/user_guide/indexing.html#returning-a-view-versus-a-copy\n",
      "  trees_clean.loc[:, 'Species_cat'] = trees_clean['Species'].astype('category').cat.codes\n",
      "/tmp/ipykernel_1460423/1631469486.py:4: SettingWithCopyWarning: \n",
      "A value is trying to be set on a copy of a slice from a DataFrame.\n",
      "Try using .loc[row_indexer,col_indexer] = value instead\n",
      "\n",
      "See the caveats in the documentation: https://pandas.pydata.org/pandas-docs/stable/user_guide/indexing.html#returning-a-view-versus-a-copy\n",
      "  trees_clean.loc[:, 'Genus_species_cat'] = trees_clean['Genus_species'].astype('category').cat.codes\n"
     ]
    },
    {
     "data": {
      "text/html": [
       "<div>\n",
       "<style scoped>\n",
       "    .dataframe tbody tr th:only-of-type {\n",
       "        vertical-align: middle;\n",
       "    }\n",
       "\n",
       "    .dataframe tbody tr th {\n",
       "        vertical-align: top;\n",
       "    }\n",
       "\n",
       "    .dataframe thead th {\n",
       "        text-align: right;\n",
       "    }\n",
       "</style>\n",
       "<table border=\"1\" class=\"dataframe\">\n",
       "  <thead>\n",
       "    <tr style=\"text-align: right;\">\n",
       "      <th></th>\n",
       "      <th>YrFireName</th>\n",
       "      <th>Species</th>\n",
       "      <th>Times_burned</th>\n",
       "      <th>Genus_species</th>\n",
       "      <th>DBH_cm</th>\n",
       "      <th>HT_m</th>\n",
       "      <th>CR_pre</th>\n",
       "      <th>yr1status</th>\n",
       "      <th>CR_post</th>\n",
       "      <th>YrFireName_cat</th>\n",
       "      <th>Species_cat</th>\n",
       "      <th>Genus_species_cat</th>\n",
       "    </tr>\n",
       "  </thead>\n",
       "  <tbody>\n",
       "    <tr>\n",
       "      <th>500</th>\n",
       "      <td>2003 - Griff</td>\n",
       "      <td>ABAM</td>\n",
       "      <td>1</td>\n",
       "      <td>Abies_amabilis</td>\n",
       "      <td>71.374</td>\n",
       "      <td>41.76</td>\n",
       "      <td>0.84</td>\n",
       "      <td>0.0</td>\n",
       "      <td>0.74</td>\n",
       "      <td>37</td>\n",
       "      <td>0</td>\n",
       "      <td>0</td>\n",
       "    </tr>\n",
       "    <tr>\n",
       "      <th>501</th>\n",
       "      <td>2003 - Griff</td>\n",
       "      <td>ABAM</td>\n",
       "      <td>1</td>\n",
       "      <td>Abies_amabilis</td>\n",
       "      <td>23.622</td>\n",
       "      <td>12.80</td>\n",
       "      <td>0.60</td>\n",
       "      <td>0.0</td>\n",
       "      <td>0.57</td>\n",
       "      <td>37</td>\n",
       "      <td>0</td>\n",
       "      <td>0</td>\n",
       "    </tr>\n",
       "    <tr>\n",
       "      <th>502</th>\n",
       "      <td>2003 - Griff</td>\n",
       "      <td>ABAM</td>\n",
       "      <td>1</td>\n",
       "      <td>Abies_amabilis</td>\n",
       "      <td>46.228</td>\n",
       "      <td>34.75</td>\n",
       "      <td>0.75</td>\n",
       "      <td>0.0</td>\n",
       "      <td>0.59</td>\n",
       "      <td>37</td>\n",
       "      <td>0</td>\n",
       "      <td>0</td>\n",
       "    </tr>\n",
       "    <tr>\n",
       "      <th>503</th>\n",
       "      <td>2003 - Griff</td>\n",
       "      <td>ABAM</td>\n",
       "      <td>1</td>\n",
       "      <td>Abies_amabilis</td>\n",
       "      <td>21.082</td>\n",
       "      <td>23.16</td>\n",
       "      <td>0.38</td>\n",
       "      <td>0.0</td>\n",
       "      <td>0.38</td>\n",
       "      <td>37</td>\n",
       "      <td>0</td>\n",
       "      <td>0</td>\n",
       "    </tr>\n",
       "    <tr>\n",
       "      <th>504</th>\n",
       "      <td>2003 - Griff</td>\n",
       "      <td>ABAM</td>\n",
       "      <td>1</td>\n",
       "      <td>Abies_amabilis</td>\n",
       "      <td>24.384</td>\n",
       "      <td>26.21</td>\n",
       "      <td>0.42</td>\n",
       "      <td>0.0</td>\n",
       "      <td>0.42</td>\n",
       "      <td>37</td>\n",
       "      <td>0</td>\n",
       "      <td>0</td>\n",
       "    </tr>\n",
       "    <tr>\n",
       "      <th>505</th>\n",
       "      <td>2003 - Griff</td>\n",
       "      <td>ABAM</td>\n",
       "      <td>1</td>\n",
       "      <td>Abies_amabilis</td>\n",
       "      <td>42.672</td>\n",
       "      <td>26.82</td>\n",
       "      <td>0.74</td>\n",
       "      <td>0.0</td>\n",
       "      <td>0.53</td>\n",
       "      <td>37</td>\n",
       "      <td>0</td>\n",
       "      <td>0</td>\n",
       "    </tr>\n",
       "    <tr>\n",
       "      <th>506</th>\n",
       "      <td>2003 - Griff</td>\n",
       "      <td>ABAM</td>\n",
       "      <td>1</td>\n",
       "      <td>Abies_amabilis</td>\n",
       "      <td>87.630</td>\n",
       "      <td>38.40</td>\n",
       "      <td>0.79</td>\n",
       "      <td>0.0</td>\n",
       "      <td>0.67</td>\n",
       "      <td>37</td>\n",
       "      <td>0</td>\n",
       "      <td>0</td>\n",
       "    </tr>\n",
       "    <tr>\n",
       "      <th>507</th>\n",
       "      <td>2003 - Griff</td>\n",
       "      <td>ABAM</td>\n",
       "      <td>1</td>\n",
       "      <td>Abies_amabilis</td>\n",
       "      <td>20.574</td>\n",
       "      <td>21.03</td>\n",
       "      <td>0.49</td>\n",
       "      <td>0.0</td>\n",
       "      <td>0.49</td>\n",
       "      <td>37</td>\n",
       "      <td>0</td>\n",
       "      <td>0</td>\n",
       "    </tr>\n",
       "    <tr>\n",
       "      <th>508</th>\n",
       "      <td>2003 - Griff</td>\n",
       "      <td>ABAM</td>\n",
       "      <td>1</td>\n",
       "      <td>Abies_amabilis</td>\n",
       "      <td>57.404</td>\n",
       "      <td>34.75</td>\n",
       "      <td>0.55</td>\n",
       "      <td>0.0</td>\n",
       "      <td>0.36</td>\n",
       "      <td>37</td>\n",
       "      <td>0</td>\n",
       "      <td>0</td>\n",
       "    </tr>\n",
       "    <tr>\n",
       "      <th>509</th>\n",
       "      <td>2003 - Griff</td>\n",
       "      <td>ABAM</td>\n",
       "      <td>1</td>\n",
       "      <td>Abies_amabilis</td>\n",
       "      <td>61.214</td>\n",
       "      <td>33.53</td>\n",
       "      <td>0.61</td>\n",
       "      <td>0.0</td>\n",
       "      <td>0.39</td>\n",
       "      <td>37</td>\n",
       "      <td>0</td>\n",
       "      <td>0</td>\n",
       "    </tr>\n",
       "  </tbody>\n",
       "</table>\n",
       "</div>"
      ],
      "text/plain": [
       "       YrFireName Species  Times_burned   Genus_species  DBH_cm   HT_m  \\\n",
       "500  2003 - Griff    ABAM             1  Abies_amabilis  71.374  41.76   \n",
       "501  2003 - Griff    ABAM             1  Abies_amabilis  23.622  12.80   \n",
       "502  2003 - Griff    ABAM             1  Abies_amabilis  46.228  34.75   \n",
       "503  2003 - Griff    ABAM             1  Abies_amabilis  21.082  23.16   \n",
       "504  2003 - Griff    ABAM             1  Abies_amabilis  24.384  26.21   \n",
       "505  2003 - Griff    ABAM             1  Abies_amabilis  42.672  26.82   \n",
       "506  2003 - Griff    ABAM             1  Abies_amabilis  87.630  38.40   \n",
       "507  2003 - Griff    ABAM             1  Abies_amabilis  20.574  21.03   \n",
       "508  2003 - Griff    ABAM             1  Abies_amabilis  57.404  34.75   \n",
       "509  2003 - Griff    ABAM             1  Abies_amabilis  61.214  33.53   \n",
       "\n",
       "     CR_pre  yr1status  CR_post  YrFireName_cat  Species_cat  \\\n",
       "500    0.84        0.0     0.74              37            0   \n",
       "501    0.60        0.0     0.57              37            0   \n",
       "502    0.75        0.0     0.59              37            0   \n",
       "503    0.38        0.0     0.38              37            0   \n",
       "504    0.42        0.0     0.42              37            0   \n",
       "505    0.74        0.0     0.53              37            0   \n",
       "506    0.79        0.0     0.67              37            0   \n",
       "507    0.49        0.0     0.49              37            0   \n",
       "508    0.55        0.0     0.36              37            0   \n",
       "509    0.61        0.0     0.39              37            0   \n",
       "\n",
       "     Genus_species_cat  \n",
       "500                  0  \n",
       "501                  0  \n",
       "502                  0  \n",
       "503                  0  \n",
       "504                  0  \n",
       "505                  0  \n",
       "506                  0  \n",
       "507                  0  \n",
       "508                  0  \n",
       "509                  0  "
      ]
     },
     "execution_count": 7,
     "metadata": {},
     "output_type": "execute_result"
    }
   ],
   "source": [
    "# Convert YrFireName, Species, Genus_species using .cat.codes\n",
    "trees_clean.loc[:, 'YrFireName_cat'] = trees_clean['YrFireName'].astype('category').cat.codes\n",
    "trees_clean.loc[:, 'Species_cat'] = trees_clean['Species'].astype('category').cat.codes\n",
    "trees_clean.loc[:, 'Genus_species_cat'] = trees_clean['Genus_species'].astype('category').cat.codes\n",
    "\n",
    "# View dataframe \n",
    "trees_clean.head(10)"
=======
   "outputs": [],
   "source": [
    "..."
>>>>>>> 74b9cc60e7c275585852b53fadd1708eaab8cf5e
   ]
  },
  {
   "cell_type": "markdown",
   "id": "fdcc4673-26dc-4c09-8c9a-0f2f97abe16f",
   "metadata": {},
   "source": [
    "2. Then we'll split into training and test data and scale for coefficient interpretability.  Recall that we use the training features to calculate our scaling parameters (mean and standard deviation) and apply the scaling to those training features (`scaler.fit_transform`) and then apply the scaling to the features in the test data as well (`scaler.transform`).\n"
   ]
  },
  {
   "cell_type": "code",
<<<<<<< HEAD
   "execution_count": 9,
=======
   "execution_count": null,
>>>>>>> 74b9cc60e7c275585852b53fadd1708eaab8cf5e
   "id": "54b2f9d2-f414-4bf2-b0a3-51d55f3d997a",
   "metadata": {
    "tags": []
   },
   "outputs": [],
   "source": [
<<<<<<< HEAD
    "# ---- Split testing and training data ----\n",
    "\n",
    "# Assign predictor and outcome variables \n",
    "X = trees_clean[[\"YrFireName_cat\", \"Times_burned\", \"Species_cat\",\"Genus_species_cat\",\n",
    "                 \"DBH_cm\", \"HT_m\", \"CR_pre\",\"CR_post\"]]\n",
    "\n",
    "y = trees_clean[\"yr1status\"]\n",
    "\n",
    "# Split data for testing and training\n",
    "X_train, X_test, y_train, y_test = train_test_split(X,y,\n",
    "                                                    test_size= 0.3,\n",
    "                                                   random_state = 42)\n",
    "\n",
    "# Standardize the predictors\n",
    "scaler = StandardScaler() # subtracts mean by sd to get variables on the same scale\n",
    "X_train_scaled = scaler.fit_transform(X_train) \n",
    "X_test_scaled = scaler.fit_transform(X_test)"
=======
    "\n",
    "..."
>>>>>>> 74b9cc60e7c275585852b53fadd1708eaab8cf5e
   ]
  },
  {
   "cell_type": "markdown",
   "id": "3055eca1-9c22-4266-95a0-710b43be5a8e",
   "metadata": {},
   "source": [
    "3. How many training/test observations do we have? Print your answer in the cell below. "
   ]
  },
  {
   "cell_type": "code",
<<<<<<< HEAD
   "execution_count": 10,
=======
   "execution_count": null,
>>>>>>> 74b9cc60e7c275585852b53fadd1708eaab8cf5e
   "id": "fdb4803d-8680-4ede-b790-3579f4a485e7",
   "metadata": {
    "tags": []
   },
<<<<<<< HEAD
   "outputs": [
    {
     "name": "stdout",
     "output_type": "stream",
     "text": [
      "Training set observations: 25556\n",
      "Testing set observations: 10953\n"
     ]
    }
   ],
   "source": [
    "# Verify the training and testing set size\n",
    "print(\"Training set observations:\", X_train.shape[0])\n",
    "print(\"Testing set observations:\", X_test.shape[0])"
=======
   "outputs": [],
   "source": [
    "...\n",
    "\n",
    "# Verify the training and testing set size\n",
    "print(\"Training set observations:\", )\n",
    "print(\"Testing set observations:\",)"
>>>>>>> 74b9cc60e7c275585852b53fadd1708eaab8cf5e
   ]
  },
  {
   "cell_type": "markdown",
   "id": "4ca8857c",
   "metadata": {},
   "source": [
    "## Step 4: Train a Logistical Model\n",
    "Create a classifier using `LogisticRegression()` and fit it on the training data.  Then assess the model's accuracy on the training set by making predictions on the training data.  Calculate and **print** the accuracy of your model on the training set. "
   ]
  },
  {
   "cell_type": "code",
<<<<<<< HEAD
   "execution_count": 14,
=======
   "execution_count": null,
>>>>>>> 74b9cc60e7c275585852b53fadd1708eaab8cf5e
   "id": "578b2ca5",
   "metadata": {
    "tags": []
   },
<<<<<<< HEAD
   "outputs": [
    {
     "name": "stdout",
     "output_type": "stream",
     "text": [
      "Logistic Model Training accuracy: 0.9451\n"
     ]
    },
    {
     "data": {
      "image/png": "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",
      "text/plain": [
       "<Figure size 640x480 with 2 Axes>"
      ]
     },
     "metadata": {},
     "output_type": "display_data"
    }
   ],
   "source": [
    "# Train logistic regression\n",
    "model = LogisticRegression()\n",
    "model.fit(X_train_scaled, y_train)\n",
    "\n",
    "#y_probs = model.predict_proba(X_test)[:,1] \n",
    "y_pred_train = model.predict(X_train_scaled)\n",
    "\n",
    "# Calculate and print accuracy on the training set\n",
    "train_accuracy = accuracy_score(y_train, y_pred_train)\n",
    "print(f\"Logistic Model Training accuracy: {train_accuracy:.4f}\") \n",
    "\n",
    "# Confusion Matrix\n",
    "plt.subplot(1, 3, 2)\n",
    "cm = confusion_matrix(y_train, y_pred_train)\n",
    "ConfusionMatrixDisplay(confusion_matrix=cm,\n",
    "                       display_labels=[\"Class 0\", \"Class 1\"]).plot(cmap=\"Blues\", ax=plt.gca())\n",
    "plt.title(\"Confusion Matrix\")\n",
    "plt.xlabel(\"Predicted Class\")\n",
    "plt.ylabel(\"Actual Class\")\n",
    "plt.grid(False)"
=======
   "outputs": [],
   "source": [
    "...\n",
    "print(f\"Training Accuracy: \")"
>>>>>>> 74b9cc60e7c275585852b53fadd1708eaab8cf5e
   ]
  },
  {
   "cell_type": "markdown",
   "id": "34d86616",
   "metadata": {},
   "source": [
    "## Step 5: Test Set Predictions and Model Evaluation\n",
    "Now let's take our trained logistic classifier and make predictions on the test set. Calculate the accuracy and confusion matrix. Then use `sns.heatmap` for improved confusion matrix visualization."
   ]
  },
  {
   "cell_type": "code",
<<<<<<< HEAD
   "execution_count": 20,
=======
   "execution_count": null,
>>>>>>> 74b9cc60e7c275585852b53fadd1708eaab8cf5e
   "id": "be4e4d6c",
   "metadata": {
    "tags": []
   },
<<<<<<< HEAD
   "outputs": [
    {
     "name": "stdout",
     "output_type": "stream",
     "text": [
      "Logistic Model Test Accuracy: 0.9399\n"
     ]
    },
    {
     "data": {
      "text/plain": [
       "Text(50.722222222222214, 0.5, 'Actual Class')"
      ]
     },
     "execution_count": 20,
     "metadata": {},
     "output_type": "execute_result"
    },
    {
     "data": {
      "image/png": "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",
      "text/plain": [
       "<Figure size 640x480 with 2 Axes>"
      ]
     },
     "metadata": {},
     "output_type": "display_data"
    }
   ],
   "source": [
    "# ---- Test set predictions and model evaluation ----\n",
    "\n",
    "# Make predictions on the test set\n",
    "y_pred_test = model.predict(X_test_scaled)\n",
    "\n",
    "# Calculate and print accuracy on the test set\n",
    "test_accuracy = accuracy_score(y_test, y_pred_test)\n",
    "print(f\"Logistic Model Test Accuracy: {test_accuracy:.4f}\")\n",
    "\n",
    "#  Confusion Matrix using sns heatmap\n",
    "sns.heatmap(cm, annot=True, fmt=\"d\", cmap=\"Blues\", xticklabels=[\"Class 0\", \"Class 1\"], yticklabels=[\"Class 0\", \"Class 1\"])\n",
    "plt.title(\"Logistic Model Confusion Matrix\")\n",
    "plt.xlabel(\"Predicted Class\")\n",
    "plt.ylabel(\"Actual Class\")"
=======
   "outputs": [],
   "source": [
    "...\n",
    "\n",
    "# Print evaluation metrics\n",
    "print(f\"Accuracy: \")\n",
    "\n",
    "\n",
    "#Plot confusion matrix\n",
    "..."
>>>>>>> 74b9cc60e7c275585852b53fadd1708eaab8cf5e
   ]
  },
  {
   "cell_type": "markdown",
   "id": "9b5cdbbb",
   "metadata": {},
   "source": [
    "## Step 6: Logistic Classifier Evaluation\n",
    "How did your model perform on the unseen data? \n",
    "Does your model perform differently on observations of trees that survived vs trees that died?\n",
    "Is there a class imbalance in this data set?"
   ]
  },
  {
   "cell_type": "markdown",
   "id": "7c651ef7",
   "metadata": {},
   "source": [
<<<<<<< HEAD
    "The accuracy for the model is high (0.93 on test data and 0.94 on training data). Based on the confusion matrix, the model performed better with predicting trees that survived rather than trees that died. This can likely be attributed to the presence of a class imbalance in the dataset, because there are a significantly higher number of alive observations than dead."
=======
    "*Your answer here*"
>>>>>>> 74b9cc60e7c275585852b53fadd1708eaab8cf5e
   ]
  },
  {
   "cell_type": "markdown",
   "id": "c60c7e36",
   "metadata": {},
   "source": [
    "## Step 7: What about a Dummy?\n",
    "What do you think would happen if we built a model that always predicts the majority class (dead trees)? How would its accuracy compare to your logistic regression model?"
   ]
  },
  {
   "cell_type": "markdown",
   "id": "e66ba576",
   "metadata": {},
   "source": [
<<<<<<< HEAD
    "Since there is a dramatic class imbalance, I think that the dummy model may perform okay in terms of accuracy since it will be predicting the majority class. But I think that a dummy classifier is going to perform worse in terms of accuracy than with logistic regression because the dummy will always predict that a tree is alive, so it wouldn't be able to correctly label any of the trees that did burn so that's important to take into consideration."
=======
    "*Your answer here*"
>>>>>>> 74b9cc60e7c275585852b53fadd1708eaab8cf5e
   ]
  },
  {
   "cell_type": "markdown",
   "id": "6854360d",
   "metadata": {},
   "source": [
    "Let's go ahead and do it: use `DummyClassifier()` with the appropriate value for the 'strategy' parameter to train a majority classifier.  Then calculate this model's accuracy on the training data."
   ]
  },
  {
   "cell_type": "code",
<<<<<<< HEAD
   "execution_count": 25,
=======
   "execution_count": null,
>>>>>>> 74b9cc60e7c275585852b53fadd1708eaab8cf5e
   "id": "fe5b4015",
   "metadata": {
    "tags": []
   },
<<<<<<< HEAD
   "outputs": [
    {
     "name": "stdout",
     "output_type": "stream",
     "text": [
      "Dummy Train Accuracy:  0.9172405697292221\n",
      "Dummy Test Accuracy: 0.9160047475577467\n"
     ]
    },
    {
     "data": {
      "text/plain": [
       "Text(50.722222222222214, 0.5, 'Actual Class')"
      ]
     },
     "execution_count": 25,
     "metadata": {},
     "output_type": "execute_result"
    },
    {
     "data": {
      "image/png": "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",
      "text/plain": [
       "<Figure size 640x480 with 2 Axes>"
      ]
     },
     "metadata": {},
     "output_type": "display_data"
    }
   ],
   "source": [
    "# ---- Try a Dummy Model ----\n",
    "\n",
    "# Train dummy model\n",
    "dummy_model = DummyClassifier(strategy=\"most_frequent\")\n",
    "dummy_model.fit(X_train_scaled, y_train)\n",
    "\n",
    "# Make predictions on the training set\n",
    "y_pred_dummy_train = dummy_model.predict(X_train_scaled)\n",
    "\n",
    "# Print accuracy \n",
    "print(f\"Dummy Train Accuracy: \", accuracy_score(y_train, y_pred_dummy_train))\n",
    "\n",
    "# Make predictions on the test set\n",
    "y_pred_dummy_test = dummy_model.predict(X_test_scaled)\n",
    "\n",
    "# Calculate and print accuracy on the test set\n",
    "print(f\"Dummy Test Accuracy:\", accuracy_score(y_test, y_pred_dummy_test))\n",
    "\n",
    "# Confusion Matrix\n",
    "sns.heatmap(cm, annot=True, fmt=\"d\", cmap=\"Blues\", xticklabels=[\"Class 0\", \"Class 1\"], yticklabels=[\"Class 0\", \"Class 1\"])\n",
    "plt.title(\"Dummy Model Confusion Matrix\")\n",
    "plt.xlabel(\"Predicted Class\")\n",
    "plt.ylabel(\"Actual Class\")"
=======
   "outputs": [],
   "source": [
    "...\n",
    "\n",
    "# Print accuracy and confusion matrix results\n",
    "print(f\"Dummy Accuracy: \")\n",
    "print(\"\\nDummy Confusion Matrix:\")\n"
>>>>>>> 74b9cc60e7c275585852b53fadd1708eaab8cf5e
   ]
  },
  {
   "cell_type": "markdown",
   "id": "e3445d23",
   "metadata": {},
   "source": [
    "# Step 8: ROCs and AUCs\n",
    "Our two models have similar accuracy, but is that all there is to this story?  Let's dig a little deeper on the comparison of our logistic and dummy classifiers by examining the associated receiver-operator characteristic (ROC) curves. Calculate the area under the curve (AUC) for both models."
   ]
  },
  {
   "cell_type": "code",
<<<<<<< HEAD
   "execution_count": 27,
=======
   "execution_count": null,
>>>>>>> 74b9cc60e7c275585852b53fadd1708eaab8cf5e
   "id": "cef8515b",
   "metadata": {
    "tags": []
   },
<<<<<<< HEAD
   "outputs": [
    {
     "name": "stdout",
     "output_type": "stream",
     "text": [
      "Logistic AUC: 0.9181\n",
      "Dummy AUC: 0.5000\n"
     ]
    }
   ],
   "source": [
    "# ---- Logistic classifier AUC ----\n",
    "\n",
    "# Compute predicted probabilities for positive class (1)\n",
    "y_probs_log = model.predict_proba(X_test_scaled)[:, 1] \n",
    "\n",
    "# Compute AUC score\n",
    "log_auc = roc_auc_score(y_test, y_probs_log)\n",
    "print(f\"Logistic AUC: {log_auc:.4f}\")\n",
    "\n",
    "\n",
    "\n",
    "# ---- Dummy classifier AUC ----\n",
    "\n",
    "# Compute predicted probabilities for positive class (1)\n",
    "y_probs_dummy = dummy_model.predict_proba(X_test_scaled)[:, 1] \n",
    "\n",
    "# Compute AUC score\n",
    "dummy_auc = roc_auc_score(y_test, y_probs_dummy)\n",
    "print(f\"Dummy AUC: {dummy_auc:.4f}\")"
=======
   "outputs": [],
   "source": [
    "# Logistic classifier AUC\n",
    "...\n",
    "print(f\"Logistic AUC: \")"
   ]
  },
  {
   "cell_type": "code",
   "execution_count": null,
   "id": "5180e8b8",
   "metadata": {
    "tags": []
   },
   "outputs": [],
   "source": [
    "# Dummy classifier AUC\n",
    "...\n",
    "print(f\"Dummy AUC: \")"
>>>>>>> 74b9cc60e7c275585852b53fadd1708eaab8cf5e
   ]
  },
  {
   "cell_type": "markdown",
   "id": "4acd252f",
   "metadata": {},
   "source": [
    "# Step 9: Plot dummy and logistic model ROC curves\n",
    "Now using the outputs from `roc_curve()`, plot the ROC curves for both models on the same plot.  Make sure to use appropriate labels in the legend."
   ]
  },
  {
   "cell_type": "code",
<<<<<<< HEAD
   "execution_count": 28,
=======
   "execution_count": null,
>>>>>>> 74b9cc60e7c275585852b53fadd1708eaab8cf5e
   "id": "03a7fe29",
   "metadata": {
    "tags": []
   },
<<<<<<< HEAD
   "outputs": [
    {
     "data": {
      "text/plain": [
       "<matplotlib.legend.Legend at 0x7fa09a8722c0>"
      ]
     },
     "execution_count": 28,
     "metadata": {},
     "output_type": "execute_result"
    },
    {
     "data": {
      "image/png": "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",
      "text/plain": [
       "<Figure size 640x480 with 1 Axes>"
      ]
     },
     "metadata": {},
     "output_type": "display_data"
    }
   ],
   "source": [
    "# Subplot 1: ROC Curve Logistic\n",
    "fpr_log, tpr_log, _ = roc_curve(y_test, y_probs_log)\n",
    "fpr_dum, tpr_dum, _ = roc_curve(y_test, y_probs_dummy)\n",
    "\n",
    "plt.plot(fpr_log, tpr_log, label=\"ROC Curve - Logistic Model\", color=\"purple\", lw=2)\n",
    "\n",
    "plt.plot(fpr_dum, tpr_dum, label=\"ROC Curve - Dummy Model\", color=\"orange\", lw=2)\n",
    "\n",
    "plt.xlabel(\"False Positive Rate\")\n",
    "plt.ylabel(\"True Positive Rate\")\n",
    "plt.title(\"ROC Curve\")\n",
    "plt.legend()"
   ]
=======
   "outputs": [],
   "source": []
>>>>>>> 74b9cc60e7c275585852b53fadd1708eaab8cf5e
  },
  {
   "cell_type": "markdown",
   "id": "ec104e80",
   "metadata": {},
   "source": [
    "How do the two models compare on AUC?  What are the implications for evaluating classifiers based on accuracy of their predictions?"
   ]
  },
  {
   "cell_type": "markdown",
   "id": "a4ab1a30",
   "metadata": {},
   "source": [
<<<<<<< HEAD
    "Both of the models performed relatively similar in terms of accuracy, however the models performance is very difference in terms of AUC. The dummy model performance is as good as by random chance, AUC = 0.5, for the logistic model its AUC was 0.91. This shows the the logistic model was much better at predicting between the positive and negative classes. This demonstrates that looking solely at the accuracy alone is not a good indication of overall model performance."
=======
    "*Your answer here*"
>>>>>>> 74b9cc60e7c275585852b53fadd1708eaab8cf5e
   ]
  },
  {
   "cell_type": "markdown",
   "id": "d1767d77",
   "metadata": {},
   "source": [
    "# Step 10: Final interpretation\n",
    "\n",
    "Identifying the most important features in a model can guide decision-making. For instance, in our dataset, highly important features might indicate key factors affecting tree survival after a fire. We will calculate the feature importance by examining the coefficients of our logistic regression model."
   ]
  },
  {
   "cell_type": "code",
<<<<<<< HEAD
   "execution_count": 29,
=======
   "execution_count": null,
>>>>>>> 74b9cc60e7c275585852b53fadd1708eaab8cf5e
   "id": "e0a97e03",
   "metadata": {
    "tags": []
   },
<<<<<<< HEAD
   "outputs": [
    {
     "name": "stdout",
     "output_type": "stream",
     "text": [
      "             Feature      Coef\n",
      "7            CR_post -2.494974\n",
      "5               HT_m -1.165414\n",
      "0     YrFireName_cat -0.660497\n",
      "2        Species_cat  0.541509\n",
      "4             DBH_cm  0.421324\n",
      "6             CR_pre  0.123414\n",
      "3  Genus_species_cat -0.067867\n",
      "1       Times_burned  0.000000\n"
     ]
    }
   ],
   "source": [
    "# ---- Identify the most important features in a model ----\n",
    "\n",
    "# Create list of feature names\n",
    "feature_names = list(trees_clean[[\"YrFireName_cat\", \"Times_burned\", \"Species_cat\",\"Genus_species_cat\",\n",
    "                 \"DBH_cm\", \"HT_m\", \"CR_pre\",\"CR_post\"]])\n",
    "\n",
    "# Create list of coefficients\n",
    "coefs = list(model.coef_[0])\n",
    "\n",
    "# Create feature importance df\n",
    "importance_df = pd.DataFrame(zip(feature_names, coefs), columns=['Feature', 'Coef'])\n",
    "\n",
    "# Print the sorted feature importance\n",
    "print(importance_df.sort_values(by = 'Coef', key = abs, ascending = False))"
=======
   "outputs": [],
   "source": [
    "...\n",
    "\n",
    "# Print the sorted feature importance\n",
    "print(importance_df)"
>>>>>>> 74b9cc60e7c275585852b53fadd1708eaab8cf5e
   ]
  },
  {
   "cell_type": "markdown",
   "id": "55d9db5d",
   "metadata": {},
   "source": [
    "Which are the most important features in our model (reference the metadata to help answer this)? Can you think of any implications for forest management or conservation strategy?"
   ]
  },
  {
   "cell_type": "markdown",
   "id": "bd42e56c",
   "metadata": {},
   "source": [
<<<<<<< HEAD
    "The most important features in the model are CR_post (crown radius post fire) and HT_m (height in meters). This means that these two features had the largest amount of influence in our model. Both of these have to do with the size of the tree, in terms of conservation strategies this would suggest that both of these are important variables to consider when managing a forest."
=======
    "*Your answer here*"
>>>>>>> 74b9cc60e7c275585852b53fadd1708eaab8cf5e
   ]
  }
 ],
 "metadata": {
  "kernelspec": {
   "display_name": "Anaconda 3 (EDS232)",
   "language": "python",
   "name": "ml-env"
  },
  "language_info": {
   "codemirror_mode": {
    "name": "ipython",
    "version": 3
   },
   "file_extension": ".py",
   "mimetype": "text/x-python",
   "name": "python",
   "nbconvert_exporter": "python",
   "pygments_lexer": "ipython3",
   "version": "3.10.16"
  }
 },
 "nbformat": 4,
 "nbformat_minor": 5
}
