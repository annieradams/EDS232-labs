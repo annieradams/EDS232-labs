{
 "cells": [
  {
   "cell_type": "markdown",
   "metadata": {},
   "source": [
    "## Lab 8:  Clustering\n",
    "Environmental justice (EJ) seeks to ensure that all communities, regardless of socioeconomic status or demographic background, have equal access to clean air, water, and, in the form of energy justice, access to renewable energy resources while minimizing exposure to environmental hazards. In this lab, we will apply clustering analysis to explore how U.S. counties group together based on renewable energy potential, demographic characteristics, and environmental risk factors.\n",
    "\n",
    "The EEIP dataset was collated by the National Renewable Energy Lab (NREL) and contains a large set of features from multiple other databases including SLOPE (renewable energy potential) and EJSCREEN (environmental risk indicators).\n",
    "\n",
    "Link to metadata: https://ucsb.box.com/s/x3olvh3rd8w5h7xz8jnm3v8g3t4ajjsg\n",
    "\n",
    "First you will step through a guided clustering exploration of renewable energy production potential.  Then you will formulate a question of your own that brings in an environmental justice component.\n"
   ]
  },
  {
   "cell_type": "markdown",
   "metadata": {},
   "source": [
    "### Step 0: Load Libraries and Data"
   ]
  },
  {
   "cell_type": "code",
   "execution_count": 2,
   "metadata": {
    "tags": []
   },
   "outputs": [],
   "source": [
    "import pandas as pd\n",
    "import numpy as np\n",
    "import matplotlib.pyplot as plt\n",
    "from sklearn.preprocessing import StandardScaler\n",
    "from scipy.cluster.hierarchy import linkage, dendrogram, fcluster\n",
    "\n",
    "# Load the EEIP dataset \n",
    "eeip_data = pd.read_csv(\"/courses/EDS232/Data/eeip.data.csv\")"
   ]
  },
  {
   "cell_type": "markdown",
   "metadata": {},
   "source": [
    "## Part I:\n",
    "In this part, we will step through an analysis that examines how US counties cluster in their potential production of renewable energy.  \n",
    "\n",
    "### Step 1: Exploratory Data Analysis\n",
    "\n",
    "First we need to check for missing data and remove incomplete rows. Since clustering is a distance-based technique, we also need to ensure that the features used for clustering are scaled appropriately to prevent dominant features from skewing results.  For our first analysis, use the following variables from the SLOPE dataset related to energy production potential as your features: \n",
    "- `utility_pv_technical_generation_potential_mwh`\n",
    "- `residential_pv_technical_generation_potential_mwh`\n",
    "- `land_based_wind_technical_generation_potential_mwh`\n",
    "- `commercial_pv_technical_generation_potential_mwh`\n",
    "\n",
    "*Information on these variables is available on line 7 of the ColumnsExplained tab of the metadata*\n",
    "\n",
    "Once you have removed incomplete rows and scaled, print the shape of your processed dataframe. "
   ]
  },
  {
   "cell_type": "code",
   "execution_count": 3,
   "metadata": {
    "tags": []
   },
   "outputs": [
    {
     "name": "stdout",
     "output_type": "stream",
     "text": [
      "OG NA Counts by Column:\n",
      " utility_pv_technical_generation_potential_mwh         0\n",
      "residential_pv_technical_generation_potential_mwh     1\n",
      "land_based_wind_technical_generation_potential_mwh    0\n",
      "commercial_pv_technical_generation_potential_mwh      1\n",
      "dtype: int64 \n",
      "\n",
      "Check that there are no NA Counts by Column:\n",
      " utility_pv_technical_generation_potential_mwh         0\n",
      "residential_pv_technical_generation_potential_mwh     0\n",
      "land_based_wind_technical_generation_potential_mwh    0\n",
      "commercial_pv_technical_generation_potential_mwh      0\n",
      "dtype: int64\n"
     ]
    }
   ],
   "source": [
    "# ---- Clean Data ----\n",
    "\n",
    "eeip_clean = eeip_data[['utility_pv_technical_generation_potential_mwh','residential_pv_technical_generation_potential_mwh', 'land_based_wind_technical_generation_potential_mwh','commercial_pv_technical_generation_potential_mwh']]\n",
    "\n",
    "eeip_na_counts = eeip_clean.isna().sum()\n",
    "print(\"OG NA Counts by Column:\\n\", eeip_na_counts,\"\\n\")\n",
    "\n",
    "eeip_clean = eeip_clean.dropna()\n",
    "eeip_na_counts_after = eeip_clean.isna().sum()\n",
    "print(\"Check that there are no NA Counts by Column:\\n\", eeip_na_counts_after)\n"
   ]
  },
  {
   "cell_type": "code",
   "execution_count": 4,
   "metadata": {
    "tags": []
   },
   "outputs": [
    {
     "name": "stdout",
     "output_type": "stream",
     "text": [
      "(3107, 4)\n"
     ]
    }
   ],
   "source": [
    "# ---- Scale columns for cluster analysis ----\n",
    "\n",
    "# Define the columns that I want to scale\n",
    "column_names = [\n",
    "    \"utility_pv_technical_generation_potential_mwh\",\n",
    "    \"residential_pv_technical_generation_potential_mwh\",\n",
    "    \"land_based_wind_technical_generation_potential_mwh\",\n",
    "    \"commercial_pv_technical_generation_potential_mwh\"\n",
    "]\n",
    "\n",
    "# Initialize scaler\n",
    "scaler = StandardScaler()\n",
    "\n",
    "# Transform selected columns\n",
    "eeip_clean[column_names] = scaler.fit_transform(eeip_clean[column_names])\n",
    "\n",
    "print(eeip_clean.shape)"
   ]
  },
  {
   "cell_type": "code",
   "execution_count": 5,
   "metadata": {
    "tags": []
   },
   "outputs": [
    {
     "data": {
      "text/html": [
       "<div>\n",
       "<style scoped>\n",
       "    .dataframe tbody tr th:only-of-type {\n",
       "        vertical-align: middle;\n",
       "    }\n",
       "\n",
       "    .dataframe tbody tr th {\n",
       "        vertical-align: top;\n",
       "    }\n",
       "\n",
       "    .dataframe thead th {\n",
       "        text-align: right;\n",
       "    }\n",
       "</style>\n",
       "<table border=\"1\" class=\"dataframe\">\n",
       "  <thead>\n",
       "    <tr style=\"text-align: right;\">\n",
       "      <th></th>\n",
       "      <th>utility_pv_technical_generation_potential_mwh</th>\n",
       "      <th>residential_pv_technical_generation_potential_mwh</th>\n",
       "      <th>land_based_wind_technical_generation_potential_mwh</th>\n",
       "      <th>commercial_pv_technical_generation_potential_mwh</th>\n",
       "    </tr>\n",
       "  </thead>\n",
       "  <tbody>\n",
       "    <tr>\n",
       "      <th>0</th>\n",
       "      <td>-0.331171</td>\n",
       "      <td>-0.121811</td>\n",
       "      <td>-0.369593</td>\n",
       "      <td>-0.214820</td>\n",
       "    </tr>\n",
       "    <tr>\n",
       "      <th>1</th>\n",
       "      <td>0.638649</td>\n",
       "      <td>0.549126</td>\n",
       "      <td>-0.370021</td>\n",
       "      <td>0.081081</td>\n",
       "    </tr>\n",
       "    <tr>\n",
       "      <th>2</th>\n",
       "      <td>-0.004453</td>\n",
       "      <td>-0.270669</td>\n",
       "      <td>-0.266443</td>\n",
       "      <td>-0.199095</td>\n",
       "    </tr>\n",
       "    <tr>\n",
       "      <th>3</th>\n",
       "      <td>-0.510007</td>\n",
       "      <td>-0.279806</td>\n",
       "      <td>-0.395868</td>\n",
       "      <td>-0.223600</td>\n",
       "    </tr>\n",
       "    <tr>\n",
       "      <th>4</th>\n",
       "      <td>-0.473902</td>\n",
       "      <td>-0.123166</td>\n",
       "      <td>-0.251646</td>\n",
       "      <td>0.007931</td>\n",
       "    </tr>\n",
       "    <tr>\n",
       "      <th>...</th>\n",
       "      <td>...</td>\n",
       "      <td>...</td>\n",
       "      <td>...</td>\n",
       "      <td>...</td>\n",
       "    </tr>\n",
       "    <tr>\n",
       "      <th>3103</th>\n",
       "      <td>10.375964</td>\n",
       "      <td>-0.177612</td>\n",
       "      <td>13.089249</td>\n",
       "      <td>-0.227029</td>\n",
       "    </tr>\n",
       "    <tr>\n",
       "      <th>3104</th>\n",
       "      <td>-0.659747</td>\n",
       "      <td>-0.287248</td>\n",
       "      <td>-0.638372</td>\n",
       "      <td>-0.280660</td>\n",
       "    </tr>\n",
       "    <tr>\n",
       "      <th>3105</th>\n",
       "      <td>0.673568</td>\n",
       "      <td>-0.275910</td>\n",
       "      <td>1.436273</td>\n",
       "      <td>-0.259960</td>\n",
       "    </tr>\n",
       "    <tr>\n",
       "      <th>3106</th>\n",
       "      <td>0.278162</td>\n",
       "      <td>-0.311214</td>\n",
       "      <td>0.760799</td>\n",
       "      <td>-0.283715</td>\n",
       "    </tr>\n",
       "    <tr>\n",
       "      <th>3107</th>\n",
       "      <td>1.582988</td>\n",
       "      <td>-0.319989</td>\n",
       "      <td>1.379960</td>\n",
       "      <td>-0.272930</td>\n",
       "    </tr>\n",
       "  </tbody>\n",
       "</table>\n",
       "<p>3107 rows × 4 columns</p>\n",
       "</div>"
      ],
      "text/plain": [
       "      utility_pv_technical_generation_potential_mwh  \\\n",
       "0                                         -0.331171   \n",
       "1                                          0.638649   \n",
       "2                                         -0.004453   \n",
       "3                                         -0.510007   \n",
       "4                                         -0.473902   \n",
       "...                                             ...   \n",
       "3103                                      10.375964   \n",
       "3104                                      -0.659747   \n",
       "3105                                       0.673568   \n",
       "3106                                       0.278162   \n",
       "3107                                       1.582988   \n",
       "\n",
       "      residential_pv_technical_generation_potential_mwh  \\\n",
       "0                                             -0.121811   \n",
       "1                                              0.549126   \n",
       "2                                             -0.270669   \n",
       "3                                             -0.279806   \n",
       "4                                             -0.123166   \n",
       "...                                                 ...   \n",
       "3103                                          -0.177612   \n",
       "3104                                          -0.287248   \n",
       "3105                                          -0.275910   \n",
       "3106                                          -0.311214   \n",
       "3107                                          -0.319989   \n",
       "\n",
       "      land_based_wind_technical_generation_potential_mwh  \\\n",
       "0                                             -0.369593    \n",
       "1                                             -0.370021    \n",
       "2                                             -0.266443    \n",
       "3                                             -0.395868    \n",
       "4                                             -0.251646    \n",
       "...                                                 ...    \n",
       "3103                                          13.089249    \n",
       "3104                                          -0.638372    \n",
       "3105                                           1.436273    \n",
       "3106                                           0.760799    \n",
       "3107                                           1.379960    \n",
       "\n",
       "      commercial_pv_technical_generation_potential_mwh  \n",
       "0                                            -0.214820  \n",
       "1                                             0.081081  \n",
       "2                                            -0.199095  \n",
       "3                                            -0.223600  \n",
       "4                                             0.007931  \n",
       "...                                                ...  \n",
       "3103                                         -0.227029  \n",
       "3104                                         -0.280660  \n",
       "3105                                         -0.259960  \n",
       "3106                                         -0.283715  \n",
       "3107                                         -0.272930  \n",
       "\n",
       "[3107 rows x 4 columns]"
      ]
     },
     "execution_count": 5,
     "metadata": {},
     "output_type": "execute_result"
    }
   ],
   "source": [
    "eeip_clean"
   ]
  },
  {
   "cell_type": "markdown",
   "metadata": {},
   "source": [
    "### Step 2: Hierarchical Clustering Analysis\n",
    "\n",
    "Now that we have preprocessed our dataset and standardized the energy potential features, we will use hierarchical clustering to explore how counties group together based on their energy potential.\n",
    "\n",
    "A dendrogram is a tree-like visualization that shows how clusters are merged step by step. By analyzing the dendrogram, we can decide the optimal number of clusters by looking at the distance between merges.\n",
    "\n",
    "Use `linkage()` to perform the clustering.  Use 'ward' for the `method` parameter, a method which minimizes the variance within clusters, producing well-balanced groups. We will first visualize the **full dendrogram** using `dendrogram` before deciding on a truncation strategy.\n"
   ]
  },
  {
   "cell_type": "code",
   "execution_count": null,
   "metadata": {},
   "outputs": [],
   "source": [
    "# ---- Perform hierarchical clustering analysis ----\n",
    "\n",
    "# Define cluster matrix\n",
    "linkage_matrix = linkage(eeip_clean[column_names], method='ward')"
   ]
  },
  {
   "cell_type": "code",
   "execution_count": 16,
   "metadata": {
    "tags": []
   },
   "outputs": [
    {
     "data": {
      "image/png": "[encoded data removed]",
      "text/plain": [
       "<Figure size 1200x600 with 1 Axes>"
      ]
     },
     "metadata": {},
     "output_type": "display_data"
    }
   ],
   "source": [
    "# Visualize the full dendrogram\n",
    "plt.figure(figsize=(12, 6))\n",
    "dendrogram(linkage_matrix)\n",
    "plt.title(\"Hierarchical Clustering Analysis\")\n",
    "plt.xlabel(\"Data\")\n",
    "plt.ylabel(\"Distance between merges\")\n",
    "plt.show()"
   ]
  },
  {
   "cell_type": "markdown",
   "metadata": {},
   "source": [
    "### Step 3: Set Up Cluster Interpretation\n",
    "\n",
    "After determining the optimal number of clusters from the dendrogram, we now assign each county to a cluster using the extracted cluster labels.\n",
    "\n",
    "To better understand the clustering results, we will:\n",
    "- Define `num_clusters` as the ideal number of clusters based on the dendrogram created above\n",
    "- Extract cluster assignment attribute from the hierarchical clustering using `fcluster()` with `criterion = \"maxclust\"`\n",
    "- Create a new variable `Cluster` in your cleaned dataframe and assign cluster labels to it\n",
    "- Compute and print the mean values of the original energy potential features for each cluster.\n",
    "\n",
    "This summary will help us interpret how counties differ in energy potential across clusters and inform possible next steps for analysis.\n"
   ]
  },
  {
   "cell_type": "code",
   "execution_count": 18,
   "metadata": {
    "tags": []
   },
   "outputs": [
    {
     "name": "stdout",
     "output_type": "stream",
     "text": [
      "Cluster Means:\n",
      "          utility_pv_technical_generation_potential_mwh  \\\n",
      "Cluster                                                  \n",
      "1                                             2.831068   \n",
      "2                                            -0.184742   \n",
      "3                                            -0.082331   \n",
      "\n",
      "         residential_pv_technical_generation_potential_mwh  \\\n",
      "Cluster                                                      \n",
      "1                                                -0.193351   \n",
      "2                                                -0.121549   \n",
      "3                                                 3.869056   \n",
      "\n",
      "         land_based_wind_technical_generation_potential_mwh  \\\n",
      "Cluster                                                       \n",
      "1                                                 3.004580    \n",
      "2                                                -0.185776    \n",
      "3                                                -0.383628    \n",
      "\n",
      "         commercial_pv_technical_generation_potential_mwh  \n",
      "Cluster                                                    \n",
      "1                                               -0.197860  \n",
      "2                                               -0.104943  \n",
      "3                                                3.399470  \n"
     ]
    }
   ],
   "source": [
    "# ---- Set Up Cluster Interpretation ----\n",
    "\n",
    "# Define number of clusters based on dendrogram\n",
    "num_clusters = 3\n",
    "\n",
    "# Extract cluster assignment attribute\n",
    "cluster_labels = fcluster(linkage_matrix,\n",
    "                          num_clusters,\n",
    "                          criterion='maxclust')\n",
    "\n",
    "# Create new var 'Cluster; and assign labels\n",
    "eeip_clean['Cluster'] = cluster_labels\n",
    "\n",
    "# Compute cluster means\n",
    "cluster_means = eeip_clean.groupby('Cluster').mean()\n",
    "print(\"Cluster Means:\\n\", cluster_means)"
   ]
  },
  {
   "cell_type": "markdown",
   "metadata": {},
   "source": [
    "### Step 4: Visualizing Energy Potential Across Clusters\n",
    "Now that we have assigned cluster labels, we want to understand how energy potential differs across clusters. To do this, we will visualize these differences using a grouped bar chart.\n",
    "\n",
    "Each bar should represent the mean value of an energy potential indicator for a specific cluster. These different patterns of potential is what caused the model to segregate the clusters in the way that it did."
   ]
  },
  {
   "cell_type": "code",
   "execution_count": null,
   "metadata": {
    "tags": []
   },
   "outputs": [],
   "source": []
  },
  {
   "cell_type": "markdown",
   "metadata": {},
   "source": [
    "### Step 5: Interpret Clustering Results\n",
    "Interpret your plot of the resulting clusters.  How would you characterize and compare the four different clusters in terms of their profile of energy generation?"
   ]
  },
  {
   "cell_type": "markdown",
   "metadata": {},
   "source": [
    "***Your answer here***"
   ]
  },
  {
   "cell_type": "markdown",
   "metadata": {},
   "source": [
    "## Part II: Environmental Justice Metrics\n",
    "Now it's your turn.\n",
    "\n",
    "So far, we have clustered counties based on **energy potential**, but energy potential alone does not tell the full story of **energy equity and access**. To deepen the analysis, we need to consider environmental justice (EJ) factors that affect communities’ ability to benefit from renewable energy and the environmental burdens they already experience.\n",
    "\n",
    "1. Explore EJSCREEN variables:  \n",
    "   - The EJSCREEN subset of our dataset contains metrics on pollution burden, demographics (population size), and health risks (*lines 31-41 of the ColumnsExplained tab in the metadata sheet linked above*).\n",
    "   - Identify 1-3 variables that could be important for energy equity analysis.  You could introduce them either as clustering features, as post-clustering variables to help interpret the clusters, or both. \n",
    "\n",
    "2. Modify the clustering approach:  \n",
    "   - Add your selected EJSCREEN variables to our feature set.    \n",
    "   - Re-run the hierarchical clustering analysis with the expanded dataset (if you added any as clustering features).  \n",
    "\n",
    "3. Interpret the Results:\n",
    "   Your interpretation could include considerations such as:\n",
    "   - How do clusters change when EJSCREEN variables are included?  \n",
    "   - Are counties with high renewable energy potential also burdened by environmental risks?  \n",
    "   - What policy recommendations might emerge from these findings?  "
   ]
  },
  {
   "cell_type": "code",
   "execution_count": null,
   "metadata": {},
   "outputs": [],
   "source": [
    "#Your Part 2 Code"
   ]
  },
  {
   "cell_type": "markdown",
   "metadata": {},
   "source": [
    "Which EJSCREEN variable(s) did you add to the analysis? Why did you choose these?  What is the question you are interested in? What did you learn from the analysis"
   ]
  },
  {
   "cell_type": "markdown",
   "metadata": {},
   "source": [
    "***Your answer here***"
   ]
  }
 ],
 "metadata": {
  "kernelspec": {
   "display_name": "Python 3 (ipykernel)",
   "language": "python",
   "name": "python3"
  },
  "language_info": {
   "codemirror_mode": {
    "name": "ipython",
    "version": 3
   },
   "file_extension": ".py",
   "mimetype": "text/x-python",
   "name": "python",
   "nbconvert_exporter": "python",
   "pygments_lexer": "ipython3",
   "version": "3.7.13"
  }
 },
 "nbformat": 4,
 "nbformat_minor": 4
}
